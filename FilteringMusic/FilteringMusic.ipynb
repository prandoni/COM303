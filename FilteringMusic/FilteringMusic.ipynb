{
 "cells": [
  {
   "cell_type": "markdown",
   "metadata": {},
   "source": [
    "# Filtering Music\n",
    "<div align=\"right\"><a href=\"https://people.epfl.ch/paolo.prandoni\">Paolo Prandoni</a>, <a href=\"https://www.epfl.ch/labs/lcav/\">LCAV, EPFL</a></div>\n",
    "<br />"
   ]
  },
  {
   "cell_type": "markdown",
   "metadata": {},
   "source": [
    "In this notebook we will design and use filters to extract specific audio frequencies from a music file."
   ]
  },
  {
   "cell_type": "code",
   "execution_count": null,
   "metadata": {},
   "outputs": [],
   "source": [
    "%matplotlib inline\n",
    "import matplotlib.pyplot as plt\n",
    "import numpy as np\n",
    "import IPython\n",
    "import scipy.signal as sp\n",
    "from scipy.io import wavfile"
   ]
  },
  {
   "cell_type": "markdown",
   "metadata": {},
   "source": [
    "Let's load a short audio clip (hoping we won't be sued for copyright infringment...)"
   ]
  },
  {
   "cell_type": "code",
   "execution_count": null,
   "metadata": {},
   "outputs": [],
   "source": [
    "SF, s = wavfile.read('sm.wav')\n",
    "IPython.display.Audio(s, rate=SF)"
   ]
  },
  {
   "cell_type": "markdown",
   "metadata": {},
   "source": [
    "## 1. Extracting the bass\n",
    "\n",
    "Suppose I'm interested in the bass part; I know the bass will have most of its energy in the low frequency range. I could try to filter the audio with a lowpass with cutoff, say, 200Hz and see what comes out of it (you will need headphones to hear properly).\n",
    "\n",
    "Remember that the clock of the system is given by the sampling rate of the audio clip, so we will need to normalize the frequencies by $SF/2$ so that the highest frequency corresponds to 1. \n",
    "\n",
    "### 1.1. Using an IIR\n",
    "\n",
    "Let's start with a Butterworth filter:"
   ]
  },
  {
   "cell_type": "code",
   "execution_count": null,
   "metadata": {},
   "outputs": [],
   "source": [
    "# cutoff frequency in Hz\n",
    "fc = 200.0\n",
    "# normalized cutoff freq\n",
    "wc = fc / (SF/2)\n",
    "\n",
    "# syntax:\n",
    "#  scipy.signal.ellip(N, rp, rs, Wn)\n",
    "# this designs an elliptic filter of order N with rp bandpass ripple, rs stopband ripple\n",
    "#  and cutoff Wn\n",
    "\n",
    "b, a = sp.ellip(4, .1, 50, wc)\n",
    "wb, Hb = sp.freqz(b, a, 1024);\n",
    "plt.semilogx(wb/np.pi, np.abs(Hb));"
   ]
  },
  {
   "cell_type": "markdown",
   "metadata": {},
   "source": [
    "We can also plot the magnitude response against true frequencies, focusing on the passband"
   ]
  },
  {
   "cell_type": "code",
   "execution_count": null,
   "metadata": {},
   "outputs": [],
   "source": [
    "wb, Hb = sp.freqz(b, a, 4096);\n",
    "plt.plot(wb[0:100]/np.pi * (SF/2), np.abs(Hb[0:100]));"
   ]
  },
  {
   "cell_type": "markdown",
   "metadata": {},
   "source": [
    "Let's filter the signal and hear the result"
   ]
  },
  {
   "cell_type": "code",
   "execution_count": null,
   "metadata": {},
   "outputs": [],
   "source": [
    "y = sp.lfilter(b, a, s)\n",
    "IPython.display.Audio(data = y, rate = SF)"
   ]
  },
  {
   "cell_type": "markdown",
   "metadata": {},
   "source": [
    "Well, it's certainly not a perfect source separation but, if you're trying to learn the bass part, this would be a good start. \n",
    "\n",
    "### 1.2. Using an FIR\n",
    "\n",
    "We can try to achieve the same effect using FIR filters, and you'll see it's possible but we will need a lot of taps since the bandwidth is small. We can use the built-in normalization facility of Scipy's `remez()` function:"
   ]
  },
  {
   "cell_type": "code",
   "execution_count": null,
   "metadata": {},
   "outputs": [],
   "source": [
    "# transition band:\n",
    "tb = 100\n",
    "# length of the filter\n",
    "M = 1200\n",
    "h = sp.remez(M, [0, fc, fc+tb, SF/2], [1, 0], [1, 1], Hz=SF, maxiter=50)\n",
    "\n",
    "w, H = sp.freqz(h, 1, 1024)\n",
    "plt.semilogy(w[0:200]/np.pi * (SF/2), np.abs(H[0:200]))\n",
    "plt.plot(wb[0:200]/np.pi * (SF/2), np.abs(Hb[0:200]), 'green');"
   ]
  },
  {
   "cell_type": "markdown",
   "metadata": {},
   "source": [
    "As you can see, the FIR filter will be very expensive! Is it worth it? Well, you can judge for yourself: arguably linear phase preserves the instrumental attack more."
   ]
  },
  {
   "cell_type": "code",
   "execution_count": null,
   "metadata": {},
   "outputs": [],
   "source": [
    "y = sp.lfilter(h, 1, s)\n",
    "IPython.display.Audio(y, rate=SF)"
   ]
  },
  {
   "cell_type": "markdown",
   "metadata": {},
   "source": [
    "## 2. Extracting the treble\n",
    "\n",
    "Just as we tried to extract the bass, we can try to extract parts of the drum pattern. Usually, we get a good feel for the hi-hat and cymbals by keeping frequencies above 7KHz.\n",
    "\n",
    "Let's use an FIR highpass; note that, to design a highpass, we choose an odd number of taps in order to obtain a type I filter (symmetric with integer delay):"
   ]
  },
  {
   "cell_type": "code",
   "execution_count": null,
   "metadata": {},
   "outputs": [],
   "source": [
    "fh = 4000; \n",
    "M = 1601;\n",
    "hh = sp.remez(M, [0, fh - tb, fh, SF/2], [0, 1], [10, 1], Hz=SF, maxiter=50)\n",
    "\n",
    "w, HH = sp.freqz(hh, 1, 1024)\n",
    "plt.semilogy(w/np.pi * (SF/2), np.abs(HH));"
   ]
  },
  {
   "cell_type": "code",
   "execution_count": null,
   "metadata": {},
   "outputs": [],
   "source": [
    "y = sp.lfilter(hh, [1], s);\n",
    "IPython.display.Audio(data = y, rate = SF)"
   ]
  },
  {
   "cell_type": "markdown",
   "metadata": {},
   "source": [
    "# ---------------------------------\n",
    "\n",
    "\n",
    "\n",
    "\n",
    "### Did you like this Notebook?\n",
    "Yes, no, maybe? Why don't you give us some feedback using the completely anonymous form below? Thank you!"
   ]
  },
  {
   "cell_type": "code",
   "execution_count": null,
   "metadata": {},
   "outputs": [],
   "source": [
    "from IPython.display import IFrame\n",
    "IFrame('https://www.surveymonkey.com/r/NOTOSURVEY?notebook_set=COM303&notebook_id=FilteringMusic', 600, 800)"
   ]
  }
 ],
 "metadata": {
  "kernelspec": {
   "display_name": "Python 3",
   "language": "python",
   "name": "python3"
  },
  "language_info": {
   "codemirror_mode": {
    "name": "ipython",
    "version": 3
   },
   "file_extension": ".py",
   "mimetype": "text/x-python",
   "name": "python",
   "nbconvert_exporter": "python",
   "pygments_lexer": "ipython3",
   "version": "3.8.8"
  }
 },
 "nbformat": 4,
 "nbformat_minor": 4
}
