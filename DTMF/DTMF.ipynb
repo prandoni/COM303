{
 "cells": [
  {
   "cell_type": "markdown",
   "metadata": {},
   "source": [
    "# Dual-tone multi-frequency (DTMF) signaling\n",
    "<div align=\"right\"><a href=\"https://people.epfl.ch/paolo.prandoni\">Paolo Prandoni</a>, <a href=\"https://www.epfl.ch/labs/lcav/\">LCAV, EPFL</a></div>\n",
    "<br />"
   ]
  },
  {
   "cell_type": "markdown",
   "metadata": {},
   "source": [
    "In this notebook we will build a dual-tone multi-frequency decoder based on the short-time Fourier transform."
   ]
  },
  {
   "cell_type": "code",
   "execution_count": null,
   "metadata": {},
   "outputs": [],
   "source": [
    "# first our usual bookkeeping\n",
    "%matplotlib inline\n",
    "import matplotlib\n",
    "import matplotlib.pyplot as plt\n",
    "import numpy as np\n",
    "import IPython"
   ]
  },
  {
   "cell_type": "code",
   "execution_count": null,
   "metadata": {},
   "outputs": [],
   "source": [
    "plt.rcParams[\"figure.figsize\"] = (14,4)"
   ]
  },
  {
   "cell_type": "markdown",
   "metadata": {},
   "source": [
    "## 1. Introduction\n",
    "\n",
    "DTMF signaling is the way analog phones send the number dialed by a user over to the central phone office. This was in the day before all-digital networks and cell phones were the norm, but the method is still used for in-call option selection (\"press 4 to talk to customer service\"...).\n",
    "\n",
    "The mechanism is rather clever: the phone's keypad is arranged in a $4\\times 3$ grid and each button is associated with *two* frequencies according to this table:\n",
    "\n",
    "\n",
    "|            | **1209 Hz** | **1336 Hz** | **1477 Hz** |\n",
    "|------------|:-----------:|:-----------:|:-----------:|\n",
    "| **697 Hz** |      1      |      2      |      3      |\n",
    "| **770 Hz** |      4      |      5      |      6      |\n",
    "| **852 Hz** |      7      |      8      |      9      |\n",
    "| **941 Hz** |      *      |      0      |      #      |\n",
    "\n",
    "\n",
    "The  frequencies in the table have been chosen so that they are \"coprime\"; in other words, no frequency is a multiple of any other, which reduces the probability of erroneously detecting the received signals due to interference. When a button is pressed, the two corresponding frequencies are generated simultaneously and sent over the line. For instance, if the digit '1' is pressed, the generated signal will be:\n",
    "\n",
    "$$\n",
    "    x(t) = \\sin(2\\pi\\cdot 1209\\cdot t) + \\sin(2\\pi\\cdot697\\cdot t)\n",
    "$$\n",
    "\n",
    "\n",
    "The official specifications for the DTMF standard further stipulate that:\n",
    "\n",
    " * each tone should be at least 65ms long\n",
    " * tones corresponding to successive digits should be separated by a silent gap of at least 65ms\n",
    "\n",
    "\n",
    "In this notebook, we will build a DTMF decoder based on the Discrete Fourier Transform. \n",
    "Of course, here we will use discrete-time signals exclusively so, if the clock of the system is $F_s$, each DTMF tone will be of the form:\n",
    "$$\n",
    "    x[n] = \\sin(2\\pi\\,(f_l/F_s)\\, n) + \\sin(2\\pi\\,(f_h/F_s)\\,n)\n",
    "$$"
   ]
  },
  {
   "cell_type": "markdown",
   "metadata": {},
   "source": [
    "## 2. The encoder\n",
    "\n",
    "Before designing a decoder let's implement a DTMF encoder according to the specifications. Here is a function that returns the two frequencies associated to each push button on a phone"
   ]
  },
  {
   "cell_type": "code",
   "execution_count": null,
   "metadata": {},
   "outputs": [],
   "source": [
    "def dtmf_dial(number, rate=24000):\n",
    "    DTMF = {\n",
    "        '1': (697, 1209), '2': (697, 1336), '3': (697, 1477),\n",
    "        '4': (770, 1209), '5': (770, 1336), '6': (770, 1477),\n",
    "        '7': (852, 1209), '8': (852, 1336), '9': (852, 1477),\n",
    "        '*': (941, 1209), '0': (941, 1336), '#': (941, 1477),        \n",
    "    }\n",
    "    MARK = 0.1\n",
    "    SPACE = 0.1\n",
    "    n = np.arange(0, int(MARK * rate))\n",
    "    x = np.array([])\n",
    "    for d in number:\n",
    "        s = np.sin(2*np.pi * DTMF[d][0] / rate * n) + np.sin(2*np.pi * DTMF[d][1] / rate * n) \n",
    "        x = np.concatenate((x, s, np.zeros(int(SPACE * rate))))\n",
    "    return x"
   ]
  },
  {
   "cell_type": "markdown",
   "metadata": {},
   "source": [
    "OK, that was easy. Let's test it and evaluate it \"by ear\":"
   ]
  },
  {
   "cell_type": "code",
   "execution_count": null,
   "metadata": {},
   "outputs": [],
   "source": [
    "Fs = 24000\n",
    "x=dtmf_dial('123##45', Fs)\n",
    "\n",
    "IPython.display.Audio(x, rate=Fs)"
   ]
  },
  {
   "cell_type": "markdown",
   "metadata": {},
   "source": [
    "## 3. The decoder\n",
    "\n",
    "Now let's start thinking about the decoder. We will use the following strategy:\n",
    "\n",
    " * split the signal into individual digit tones by looking at the position of the gaps\n",
    " * perform a DFT on the digit tones\n",
    " * look at the peaks of the Fourier transform and recover the dialed number\n",
    " \n",
    "Here we assume we have the whole signal in memory, i.e. we will perform *batch* processing; clearly a more practical system would decode the incoming signal as it arrives sample by sample (real-time processing).\n",
    "\n",
    "### 3.1. Signal segmentation\n",
    "\n",
    "In order to split the signal, the idea is to isolate the regions where the signal contains a significant amount of energy. We will use a small sliding window and threshold the value of the energy over the window to mark the silent parts of the signal.\n",
    "\n",
    "Let's see how we can do that; let's look at the raw data first:"
   ]
  },
  {
   "cell_type": "code",
   "execution_count": null,
   "metadata": {},
   "outputs": [],
   "source": [
    "plt.plot(x);"
   ]
  },
  {
   "cell_type": "markdown",
   "metadata": {},
   "source": [
    "It seems clear that the high and low energy regions of the signal should be relatively easy to find. Let's use an analysis window of 10ms and plot the energy content over each window"
   ]
  },
  {
   "cell_type": "code",
   "execution_count": null,
   "metadata": {},
   "outputs": [],
   "source": [
    "# split the signal in 10ms chunks and arrange them as rows in a matrix\n",
    "# each chunk will contain (Fs * 10ms) samples\n",
    "# (truncate the data vector to a length multiple of the window len to avoid errors)\n",
    "win_len = int(0.01 * Fs)\n",
    "w = np.reshape(x[:int(len(x) / win_len) * win_len], (-1, win_len))\n",
    "\n",
    "# compute the energy of each chunk by summing the squares of the elements of each row\n",
    "we = np.sum(w * w, axis=1)\n",
    "\n",
    "plt.plot(we);"
   ]
  },
  {
   "cell_type": "markdown",
   "metadata": {},
   "source": [
    "From the plot, it appears clearly that we can set a threshold of about 200 to separate tone sections from silence sections. Let's write a function that returns the start and stop indices of the tone sections in an input signal"
   ]
  },
  {
   "cell_type": "code",
   "execution_count": null,
   "metadata": {},
   "outputs": [],
   "source": [
    "def dtmf_split(x, rate=24000, threshold=200, win_ms=10):\n",
    "    win_len = int(win_ms * rate / 1000.0)\n",
    "    edges = []\n",
    "    \n",
    "    w = np.reshape(x[:int(len(x) / win_len) * win_len], (-1, win_len))\n",
    "    we = np.sum(w * w, axis=1)\n",
    "    L = len(we)\n",
    "    \n",
    "    ix = 0\n",
    "    while ix < L:\n",
    "        while ix < L and we[ix] < threshold:\n",
    "            ix = ix+1\n",
    "        if ix >= L:\n",
    "            break    # ending on silence\n",
    "        iy = ix\n",
    "        while iy < L and we[iy] > threshold:\n",
    "            iy = iy+1\n",
    "        edges.append((ix * win_len, iy * win_len))\n",
    "        ix = iy\n",
    "    \n",
    "    return edges"
   ]
  },
  {
   "cell_type": "code",
   "execution_count": null,
   "metadata": {},
   "outputs": [],
   "source": [
    "print(dtmf_split(x))"
   ]
  },
  {
   "cell_type": "markdown",
   "metadata": {},
   "source": [
    "Looks good!\n",
    "\n",
    "\n",
    "### 3.2. Frequency identification\n",
    "\n",
    "Now that we have a splitter, let's run a DFT over the tone sections and find the DTMF frequencies that are closest to the peaks of the DFT magnitude. The \"low\" DTMF frequencies are in the 697 Hz to 941 Hz range, while the high frequencies in the 1209 Hz to 1477 Hz range, so we will look for a DFT peak in each of those intervals. For instance, let's look at the first tone, and let's look at the peaks in the DFT:"
   ]
  },
  {
   "cell_type": "code",
   "execution_count": null,
   "metadata": {},
   "outputs": [],
   "source": [
    "X = abs(np.fft.fft(x[0:2400]))\n",
    "plt.plot(X[0:500]);"
   ]
  },
  {
   "cell_type": "markdown",
   "metadata": {},
   "source": [
    "We clearly have identifiable peaks. The only thing we need to pay attention to is making sure that we map real-world frequencies to the DFT plot correctly (and vice versa)."
   ]
  },
  {
   "cell_type": "code",
   "execution_count": null,
   "metadata": {},
   "outputs": [],
   "source": [
    "def dtmf_decode(x, rate=24000, threshold=200):\n",
    "    # the DTMF frequencies\n",
    "    LO_FREQS = np.array([697.0, 770.0, 852.0, 941.0])\n",
    "    HI_FREQS = np.array([1209.0, 1336.0, 1477.0])\n",
    "\n",
    "    KEYS = [['1', '2', '3'], ['4', '5', '6'], ['7', '8', '9'], ['*', '0', '#']]\n",
    "    \n",
    "    # frequency ranges to search for low and high DTMF tones\n",
    "    LO_RANGE = (680.0, 960.0)\n",
    "    HI_RANGE = (1180.0, 1500.0)\n",
    "\n",
    "    number = []\n",
    "    \n",
    "    # now examine each tone in turn. the freqency mapping on the DFT\n",
    "    #  axis will be dependent on the length of the data vector\n",
    "    edges = dtmf_split(x, rate, threshold)\n",
    "    for g in edges:\n",
    "        # compute the DFT of the tone segment\n",
    "        X = abs(np.fft.fft(x[g[0]:g[1]]))\n",
    "        N = len(X)\n",
    "        # compute the resolution in Hz of a DFT bin\n",
    "        res = float(rate) / N\n",
    "        \n",
    "        # find the peak location within the low freq range\n",
    "        a = int(LO_RANGE[0] / res)\n",
    "        b = int(LO_RANGE[1] / res)\n",
    "        lo = a + np.argmax(X[a:b])\n",
    "        # find the peak location within the high freq range\n",
    "        a = int(HI_RANGE[0] / res)\n",
    "        b = int(HI_RANGE[1] / res)\n",
    "        hi = a + np.argmax(X[a:b])\n",
    "      \n",
    "        # now match the results to the DTMF frequencies\n",
    "        row = np.argmin(abs(LO_FREQS - lo * res))\n",
    "        col = np.argmin(abs(HI_FREQS - hi * res))\n",
    "\n",
    "        # and finally convert that to the pressed key\n",
    "        number.append(KEYS[row][col])\n",
    "    return number"
   ]
  },
  {
   "cell_type": "code",
   "execution_count": null,
   "metadata": {},
   "outputs": [],
   "source": [
    "dtmf_decode(x)"
   ]
  },
  {
   "cell_type": "markdown",
   "metadata": {},
   "source": [
    "Yay! It works! As always, in communication systems, the receiver is much more complicated than the receiver. "
   ]
  },
  {
   "cell_type": "markdown",
   "metadata": {},
   "source": [
    "## 4. Practical considerations\n",
    "\n",
    "Obviously we used a very simplified setup and we have glossed over a lot of practical details. For instance, in the splitting function, the thresholds are not determined dynamically and this may create problems in the presence of noise. Similarly, we just detect a frequency peak in the spectrum, but noise may make things more complicated. \n",
    "\n",
    "For instance, listen to the following noise-corrupted version of the original signal. Although the tones are still detectable by ear, the segmentation algorithm fails and returns a single digit."
   ]
  },
  {
   "cell_type": "code",
   "execution_count": null,
   "metadata": {},
   "outputs": [],
   "source": [
    "noisy = x + np.random.uniform(-2, 2, len(x))\n",
    "\n",
    "IPython.display.Audio(noisy, rate=Fs)\n"
   ]
  },
  {
   "cell_type": "code",
   "execution_count": null,
   "metadata": {},
   "outputs": [],
   "source": [
    "dtmf_decode(noisy)"
   ]
  },
  {
   "cell_type": "markdown",
   "metadata": {},
   "source": [
    "If we **carefully** change the segmentation threshold, we can still decode"
   ]
  },
  {
   "cell_type": "code",
   "execution_count": null,
   "metadata": {},
   "outputs": [],
   "source": [
    "dtmf_decode(x, threshold=220)"
   ]
  },
  {
   "cell_type": "markdown",
   "metadata": {},
   "source": [
    "but if we're not careful..."
   ]
  },
  {
   "cell_type": "code",
   "execution_count": null,
   "metadata": {},
   "outputs": [],
   "source": [
    "dtmf_decode(x, threshold=250)"
   ]
  },
  {
   "cell_type": "markdown",
   "metadata": {},
   "source": [
    "The sensitivity to the segmentation threshold confirms the fact that segmentation should be performed using more sophisticated techniques, which we will see in the future."
   ]
  },
  {
   "cell_type": "markdown",
   "metadata": {},
   "source": [
    "# ---------------------------------\n",
    "\n",
    "\n",
    "\n",
    "\n",
    "### Did you like this Notebook?\n",
    "Yes, no, maybe? Why don't you give us some feedback using the completely anonymous form below? Thank you!"
   ]
  },
  {
   "cell_type": "code",
   "execution_count": null,
   "metadata": {},
   "outputs": [],
   "source": [
    "from IPython.display import IFrame\n",
    "IFrame('https://www.surveymonkey.com/r/NOTOSURVEY?notebook_set=COM303&notebook_id=DTMF', 600, 800)"
   ]
  }
 ],
 "metadata": {
  "kernelspec": {
   "display_name": "Python 3",
   "language": "python",
   "name": "python3"
  },
  "language_info": {
   "codemirror_mode": {
    "name": "ipython",
    "version": 3
   },
   "file_extension": ".py",
   "mimetype": "text/x-python",
   "name": "python",
   "nbconvert_exporter": "python",
   "pygments_lexer": "ipython3",
   "version": "3.7.7"
  }
 },
 "nbformat": 4,
 "nbformat_minor": 4
}
