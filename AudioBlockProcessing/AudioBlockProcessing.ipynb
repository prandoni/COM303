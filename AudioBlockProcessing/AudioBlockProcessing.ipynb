{
 "cells": [
  {
   "cell_type": "markdown",
   "metadata": {},
   "source": [
    "# Block-processing of audio files\n",
    "<div align=\"right\"><a href=\"https://people.epfl.ch/paolo.prandoni\">Paolo Prandoni</a>, <a href=\"https://www.epfl.ch/labs/lcav/\">LCAV, EPFL</a></div>\n",
    "<br />"
   ]
  },
  {
   "cell_type": "markdown",
   "metadata": {},
   "source": [
    "This notebook shows a simple way to process audio files (in WAV format) in a block-by-block fashion; this is useful in two cases\n",
    "\n",
    " 1. when you want to process a data stream in real time but you can accept a small processing delay; in this case a buffered approach can yield computational gains\n",
    " 1. when you need to process a large file that does not fit entirely into memory. \n",
    " \n",
    "We will use a simple FIR filter as the processing block but of course any other processing algorithm will work. The only caution is to take border effects into account, namely, the processing block must remember its internal state from the previous call when applied to block processing."
   ]
  },
  {
   "cell_type": "code",
   "execution_count": null,
   "metadata": {},
   "outputs": [],
   "source": [
    "import numpy as np\n",
    "import scipy.signal as sp\n",
    "import IPython\n",
    "from scipy.io import wavfile"
   ]
  },
  {
   "cell_type": "markdown",
   "metadata": {},
   "source": [
    "## 1. A Stateful FIR\n",
    "\n",
    "The following class implements a generic stateful FIR filter; by \"stateful\" we mean that the filter can be called on successive chunks of input data (of arbitrary sizes) without border effects. By looking at the formula for the convolution implementing an $N$-tap filter:\n",
    "\n",
    "$$\n",
    "    y[n] = \\sum_{k=0}^{N-1} h[k]x[n-k]\n",
    "$$ \n",
    "\n",
    "we can see that this can be achieved by storing the last $N-1$ input values from the previous call in a buffer."
   ]
  },
  {
   "cell_type": "code",
   "execution_count": null,
   "metadata": {},
   "outputs": [],
   "source": [
    "class FIR:\n",
    "    def __init__(self, taps):\n",
    "        self.taps = np.array(taps, dtype=float)\n",
    "        self.buflen = len(taps) - 1\n",
    "        self.buffer = np.zeros(self.buflen, dtype=float)\n",
    "        \n",
    "    def reset(self):\n",
    "        self.buffer = self.buffer * 0.0 \n",
    "        \n",
    "    def get_delay(self):\n",
    "        return (len(self.taps) - 1) / 2\n",
    "        \n",
    "    def filter(self, x):\n",
    "        x = np.array(x)\n",
    "        # prepend the buffered data and compute output only for full overlaps\n",
    "        data = np.r_[self.buffer, x]\n",
    "        y = np.convolve(data, self.taps, mode='valid')\n",
    "        # update buffer\n",
    "        if self.buflen > 0:\n",
    "            self.buffer = data[-self.buflen:]\n",
    "        return y"
   ]
  },
  {
   "cell_type": "markdown",
   "metadata": {},
   "source": [
    "## 2. Block audio processing\n",
    "\n",
    "In this simple function we open a WAV file, print its attributes, load it block by block, process each block and finally write the output to a file. We use the standard library `wave` to parse the header of the wav file. \n",
    "\n",
    "Note that in the current implementation, for simplicity, we only handle audio files with 16 bits per sample and we convert stereo files to mono files."
   ]
  },
  {
   "cell_type": "code",
   "execution_count": null,
   "metadata": {},
   "outputs": [],
   "source": [
    "def block_process(in_file, out_file, processing=None, block_size=1024):\n",
    "    import wave\n",
    "    with wave.open(in_file) as f_in:\n",
    "        # returns tuple (nchannels, sampwidth, framerate, nframes, comptype, compname)\n",
    "        params = f_in.getparams()\n",
    "        stereo = params[0] == 2\n",
    "        print(\"stereo\" if stereo else \"mono\", \"file,\", params[2], \"samples per second\")\n",
    "        print(params[3], \"samples total,\", params[1], \"bytes per sample.\")\n",
    "        # only deal with 16-bit samples\n",
    "        assert params[1] == 2\n",
    "        print(\"reading\", block_size, \"audio samples per block\")\n",
    "        with wave.open(out_file, 'wb') as f_out:\n",
    "            # output file same format as input, except always mono\n",
    "            f_out.setparams((1,) + params[1:])\n",
    "            while True:\n",
    "                # read audio one block at a time\n",
    "                chunk = f_in.readframes(block_size)\n",
    "                if len(chunk) == 0:\n",
    "                    break\n",
    "                if processing is not None:\n",
    "                    # read 16-bit samples, convert to float\n",
    "                    audio_data = np.frombuffer(chunk, dtype=np.int16).astype(float)\n",
    "                    # if stereo, mixdown to mono\n",
    "                    if stereo:\n",
    "                        audio_data = (audio_data[0::2] + audio_data[1::2]) * .5\n",
    "                    # now process\n",
    "                    audio_data = processing.filter(audio_data)\n",
    "                    # convert back to 16-bit samples\n",
    "                    chunk = np.int16(audio_data)\n",
    "                # write out the processed block\n",
    "                f_out.writeframes(chunk)  \n",
    "    print(\"done\")"
   ]
  },
  {
   "cell_type": "markdown",
   "metadata": {},
   "source": [
    "Let's try it with a simple lowpass filter:"
   ]
  },
  {
   "cell_type": "code",
   "execution_count": null,
   "metadata": {},
   "outputs": [],
   "source": [
    "lowpass = FIR(sp.remez(300, [0, 0.05, 0.06, 0.5], [1, 0], [1, 1], Hz=1)) \n",
    "block_process('test.wav', 'out.wav', processing=lowpass)"
   ]
  },
  {
   "cell_type": "code",
   "execution_count": null,
   "metadata": {},
   "outputs": [],
   "source": [
    "SF, s = wavfile.read('test.wav')\n",
    "IPython.display.Audio(s, rate=SF)"
   ]
  },
  {
   "cell_type": "code",
   "execution_count": null,
   "metadata": {},
   "outputs": [],
   "source": [
    "SF, s = wavfile.read('out.wav')\n",
    "IPython.display.Audio(s, rate=SF)"
   ]
  }
 ],
 "metadata": {
  "kernelspec": {
   "display_name": "Python 3",
   "language": "python",
   "name": "python3"
  },
  "language_info": {
   "codemirror_mode": {
    "name": "ipython",
    "version": 3
   },
   "file_extension": ".py",
   "mimetype": "text/x-python",
   "name": "python",
   "nbconvert_exporter": "python",
   "pygments_lexer": "ipython3",
   "version": "3.8.8"
  }
 },
 "nbformat": 4,
 "nbformat_minor": 4
}
