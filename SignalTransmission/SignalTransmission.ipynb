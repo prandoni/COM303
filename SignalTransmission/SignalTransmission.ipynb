{
 "cells": [
  {
   "cell_type": "markdown",
   "metadata": {
    "slideshow": {
     "slide_type": "slide"
    }
   },
   "source": [
    "# Analog vs Digital Transmission\n",
    "<div align=\"right\"><a href=\"https://people.epfl.ch/paolo.prandoni\">Paolo Prandoni</a>, <a href=\"https://www.epfl.ch/labs/lcav/\">LCAV, EPFL</a></div>"
   ]
  },
  {
   "cell_type": "markdown",
   "metadata": {},
   "source": [
    "In this notebook we will explore the advantages of digital transmission over analog transmission. We will model the case of transmission over a long (e.g. transoceanic) cable in which several repeaters are used to compensate for the attenuation incurred by the signal."
   ]
  },
  {
   "cell_type": "code",
   "execution_count": null,
   "metadata": {
    "slideshow": {
     "slide_type": "slide"
    }
   },
   "outputs": [],
   "source": [
    "%matplotlib inline\n",
    "import matplotlib\n",
    "import matplotlib.pyplot as plt\n",
    "import numpy as np\n",
    "import IPython\n",
    "from scipy.io import wavfile"
   ]
  },
  {
   "cell_type": "code",
   "execution_count": null,
   "metadata": {
    "slideshow": {
     "slide_type": "skip"
    }
   },
   "outputs": [],
   "source": [
    "plt.rcParams[\"figure.figsize\"] = (14,4)"
   ]
  },
  {
   "cell_type": "code",
   "execution_count": null,
   "metadata": {
    "slideshow": {
     "slide_type": "skip"
    }
   },
   "outputs": [],
   "source": [
    "def multiplot(*signals):\n",
    "    for i, s in enumerate(signals):\n",
    "        plt.subplot(1, len(signals), i+1)\n",
    "        plt.plot(s);"
   ]
  },
  {
   "cell_type": "markdown",
   "metadata": {
    "slideshow": {
     "slide_type": "slide"
    }
   },
   "source": [
    "## 1. Analog transmission\n",
    "\n",
    "<img width=\"550\" style=\"float: left; margin: 0px 20px 0 0;\" src=\"cable.jpg\">\n",
    "\n",
    "When an electrical signal is transmitted over a conductive cable, its power is attenuated in a way that is proportional to the length of the cable and, normally, an amplifier at the receiving end is necessary to compensate for this attenuation."
   ]
  },
  {
   "cell_type": "markdown",
   "metadata": {
    "slideshow": {
     "slide_type": "slide"
    }
   },
   "source": [
    "For standard copper coaxial cables, the attenuation is approximately 1 dB per mile (that is, 1 dB per 1.6 Km) so that after approximately 32Km the power will have fallen by 20dB or, equivalently, the amplitude of the signal will have decreased by 90%. \n",
    "\n",
    "Fun fact: the decibel, as a unit of measurement, was in fact *defined* as the expected attenuation induced by one mile of cable!"
   ]
  },
  {
   "cell_type": "markdown",
   "metadata": {
    "slideshow": {
     "slide_type": "skip"
    }
   },
   "source": [
    "See [**this Wikipedia entry**](https://en.wikipedia.org/wiki/Decibel) for a review on the decibel system if you are not familiar with this unit of measurement."
   ]
  },
  {
   "cell_type": "markdown",
   "metadata": {
    "slideshow": {
     "slide_type": "skip"
    }
   },
   "source": [
    "When the first transoceanic telephone lines were being designed in the early decades of the 20th century, with a length in excess of 3200Km, it was clear that a single amplifier at the receiving end would not be enough to recover the transmitted signal. The cable therefore was subdivided into a series of 30Km sections, each followed by an underwater *repeating amplifier* designed to compensate for the attenuation introduced by each section.\n",
    "\n",
    "Unfortunately, however, a transmitted signal is not only attenuated but it is also affected by additive *noise*, which the repeaters amplify as well. If many repeaters are used, the signal to noise ratio at the end of the chain can become too low and the telephone conversation can become unintelligible."
   ]
  },
  {
   "cell_type": "markdown",
   "metadata": {
    "slideshow": {
     "slide_type": "slide"
    }
   },
   "source": [
    "Problem setup:\n",
    " * cable is subdivided into 30 km segments, with repeating amplifiers between sections\n",
    " * each cable segment attenuates the signal by a factor $1/G$\n",
    " * repeater restore the signal's amplitude via a gain factor $G$. "
   ]
  },
  {
   "cell_type": "markdown",
   "metadata": {
    "slideshow": {
     "slide_type": "slide"
    }
   },
   "source": [
    " \n",
    "If $x(t)$ is the original signal, the signal at the input of the first repeater will be\n",
    "\n",
    "$$\n",
    "    x_{1,i}(t) = (1/G)x(t) + \\sigma(t)\n",
    "$$\n",
    "\n",
    "where $\\sigma(t)$ is the noise picked up in the first segment. "
   ]
  },
  {
   "cell_type": "markdown",
   "metadata": {
    "slideshow": {
     "slide_type": "slide"
    }
   },
   "source": [
    "After the repeater the signal will be \n",
    "\n",
    "$$\n",
    "    x_{1,o}(t) = Gx_{1,i}(t) = x(t) + G\\sigma(t)\n",
    "$$\n",
    "\n",
    "so that the noise will be $G$ times larger. "
   ]
  },
  {
   "cell_type": "markdown",
   "metadata": {
    "slideshow": {
     "slide_type": "slide"
    }
   },
   "source": [
    "At the end of a chain of $N$ repeaters, assuming that the noise is statistically independent, the signal will be approximately equal to\n",
    "\n",
    "$$\n",
    "    \\hat{x}_N(t)  = x(t) + NG\\sigma(t).\n",
    "$$\n",
    "\n",
    "<img width=\"650\" src=\"chain.jpg\">"
   ]
  },
  {
   "cell_type": "markdown",
   "metadata": {
    "slideshow": {
     "slide_type": "slide"
    }
   },
   "source": [
    "## 2. Digital encoding\n",
    "\n",
    "Assume that what we want to transmit is an analog audio signal $x(t)$, with amplitude between $-1$ and $+1$ mV. \n",
    "\n",
    "For analog transmission, we would simply put the signal directly on the transmission line. In this case the instantaneous amplitude of the analog signal can take any value in the interval $[-1, 1]$"
   ]
  },
  {
   "cell_type": "markdown",
   "metadata": {
    "slideshow": {
     "slide_type": "slide"
    }
   },
   "source": [
    "For digital transmission, we do the following:\n",
    " 1. we sample the analog signal into a discrete-time sequence $x[n]$\n",
    " 1. we map (quantize) the samples to a predefined set of values $Q$\n",
    " 1. we build an analog signal $x_d(t)$ that is piecewise constant between quantized values\n",
    " 1. we transmit $x_d(t)$"
   ]
  },
  {
   "cell_type": "markdown",
   "metadata": {
    "slideshow": {
     "slide_type": "skip"
    }
   },
   "source": [
    " \n",
    "If the sampling is done properly, no quality is lost but quantization will reduce the quality as we will show presently. The idea is that we will be willing to accept this quality loss because it will result in a signal that is more robust to transmission over long cables.\n",
    "\n",
    "First let's define a quantization function that maps input values in $[-1, 1]$ onto a finite set of $2M+1$ values, with $M$ an integer of our choice. To do this, we first rescale the input to the $[-M, M]$ interval and then we drop the fractional part: the input is now mapped onto one of the *integers* between $-M$ and $M$; finally, we divide the result by $M$ to bring back the quantized signal to its original range."
   ]
  },
  {
   "cell_type": "code",
   "execution_count": null,
   "metadata": {
    "slideshow": {
     "slide_type": "slide"
    }
   },
   "outputs": [],
   "source": [
    "def quantize(x, M):\n",
    "    return np.round(x * M) / M"
   ]
  },
  {
   "cell_type": "markdown",
   "metadata": {},
   "source": [
    "The quantization maps the input to the set $Q = \\{-\\frac{M}{2M+1}, -\\frac{M-1}{2M+1}, \\ldots, -\\frac{1}{2M+1}, 0, \\frac{1}{2M+1}, \\ldots, \\frac{M-1}{2M+1}, \\frac{M}{2M+1}\\}$, which contains $2M+1$ possible integer values. Both analog and digital signals have the same range and we can compare them visually: "
   ]
  },
  {
   "cell_type": "code",
   "execution_count": null,
   "metadata": {
    "slideshow": {
     "slide_type": "slide"
    }
   },
   "outputs": [],
   "source": [
    "# the original signal between -1 and 1\n",
    "x = np.cos(np.arange(0, 13, 0.01))\n",
    "multiplot(x, quantize(x, 5))"
   ]
  },
  {
   "cell_type": "markdown",
   "metadata": {},
   "source": [
    "Obviously the quantized signal is distorted with respect to the smooth original. To quantify this distortion we can compute the so-called **Signal to Noise Ratio** (SNR); this is the power of the original signal divided by the power of the error introduced by quantization and it is usually expressed on a logarithmic scale in decibels (dB)"
   ]
  },
  {
   "cell_type": "code",
   "execution_count": null,
   "metadata": {
    "slideshow": {
     "slide_type": "slide"
    }
   },
   "outputs": [],
   "source": [
    "def SNR(original, distorted):\n",
    "    # power of the error\n",
    "    err = np.sum((original - distorted) ** 2)\n",
    "    # power of the signal\n",
    "    sig = np.sum(original ** 2)\n",
    "    # SNR in dBs\n",
    "    return 10 * np.log10(sig / err)"
   ]
  },
  {
   "cell_type": "code",
   "execution_count": null,
   "metadata": {},
   "outputs": [],
   "source": [
    "SNR(x, quantize(x, 5))"
   ]
  },
  {
   "cell_type": "markdown",
   "metadata": {
    "slideshow": {
     "slide_type": "skip"
    }
   },
   "source": [
    "Clearly, quantization over 11 possible level (for $M=5$) leads to a rather low SNR; in practical applications we would use at least 8 bits per sample, which provides a higher SNR:"
   ]
  },
  {
   "cell_type": "code",
   "execution_count": null,
   "metadata": {},
   "outputs": [],
   "source": [
    "# 8 bits means 255 levels; 2M+1 = 255 => M = 127\n",
    "SNR(x, quantize(x, 127))"
   ]
  },
  {
   "cell_type": "markdown",
   "metadata": {
    "slideshow": {
     "slide_type": "slide"
    }
   },
   "source": [
    "Finally, let's listen to the effects of quantization using an actual audio signal. We can read in an audio file from disk using the `wavfile.read()` function, which returns the audio data and the playback rate needed by the playback function:"
   ]
  },
  {
   "cell_type": "code",
   "execution_count": null,
   "metadata": {
    "slideshow": {
     "slide_type": "-"
    }
   },
   "outputs": [],
   "source": [
    "rate, s = wavfile.read('speech.wav')\n",
    "# let's normalize the signal over the [-1, 1] interval\n",
    "s = s / np.max(np.abs(s))\n",
    "plt.plot(s);"
   ]
  },
  {
   "cell_type": "markdown",
   "metadata": {
    "slideshow": {
     "slide_type": "skip"
    }
   },
   "source": [
    "Can we hear the effects of quantization? (Use headphones!)"
   ]
  },
  {
   "cell_type": "code",
   "execution_count": null,
   "metadata": {
    "slideshow": {
     "slide_type": "slide"
    }
   },
   "outputs": [],
   "source": [
    "IPython.display.Audio(s, rate=rate)"
   ]
  },
  {
   "cell_type": "code",
   "execution_count": null,
   "metadata": {},
   "outputs": [],
   "source": [
    "IPython.display.Audio(quantize(s, 127), rate=rate)"
   ]
  },
  {
   "cell_type": "markdown",
   "metadata": {
    "slideshow": {
     "slide_type": "skip"
    }
   },
   "source": [
    "Indeed, the quantized version has a lower quality than the original but, as we will see, this is a small price to pay when we take the effects of the communication channel into account. "
   ]
  },
  {
   "cell_type": "markdown",
   "metadata": {
    "slideshow": {
     "slide_type": "slide"
    }
   },
   "source": [
    "Let's also compute for later the SNR for the audio quantized over 255 levels:"
   ]
  },
  {
   "cell_type": "code",
   "execution_count": null,
   "metadata": {},
   "outputs": [],
   "source": [
    "SNR(s, quantize(s, 127))"
   ]
  },
  {
   "cell_type": "markdown",
   "metadata": {
    "slideshow": {
     "slide_type": "slide"
    }
   },
   "source": [
    "## 3. Transmission ##\n",
    "\n",
    "Let's now define some functions that model the transmission of audio over a cable segment terminated by a repeater."
   ]
  },
  {
   "cell_type": "markdown",
   "metadata": {},
   "source": [
    "Each cable section will introduce attenuation and additive noise. The attenuation is specified in dB and the noise level is parametrized in terms of the signal to noise ratio at the end of the cable section. Remember that the SNR is defined as $10\\log_{10}(\\sigma_x^2 / \\sigma_0^2)$, where $\\sigma_x^2$ is the power of the signal and $\\sigma_0^2$ the power of the noise. Since the amplitude of the signal at the end of the cable section will be attenuated, we take that into account to compute the amplitude of the noise.\n",
    "\n",
    "We model the noise as a discrete-time white process where every sample is a random number drawn from a uniform distribution over the interval $[-A, A]$; the power of this signal is equal to the second moment of the distribution, namely, $\\sigma_0^2 = A^2/3$."
   ]
  },
  {
   "cell_type": "code",
   "execution_count": null,
   "metadata": {},
   "outputs": [],
   "source": [
    "def cable_section(x, att_db, snr_db):\n",
    "    # amplitude attenuation from dB value\n",
    "    att = 10 ** (-att_db / 20)    \n",
    "    # noise amplitude from SNR at the end of the section\n",
    "    A = att / (10 ** (snr_db / 20)) * np.sqrt(3)\n",
    "    noise = np.random.uniform(-A, A, len(x))\n",
    "    return x * att + noise"
   ]
  },
  {
   "cell_type": "markdown",
   "metadata": {},
   "source": [
    "Let's check that the SNR is indeed close to the theoretical value; the difference is due to the fact that the input signal's energy is less than one:"
   ]
  },
  {
   "cell_type": "code",
   "execution_count": null,
   "metadata": {},
   "outputs": [],
   "source": [
    "SNR(x, cable_section(x, 0, 50))"
   ]
  },
  {
   "cell_type": "markdown",
   "metadata": {
    "slideshow": {
     "slide_type": "slide"
    }
   },
   "source": [
    "The regenerating amplifier simply multiplies the input by the appropriate gain factor; here too we specify the gain in dB:"
   ]
  },
  {
   "cell_type": "code",
   "execution_count": null,
   "metadata": {},
   "outputs": [],
   "source": [
    "def repeater(x, gain_db):\n",
    "    gain = 10 ** (gain_db / 20)\n",
    "    return x * gain"
   ]
  },
  {
   "cell_type": "markdown",
   "metadata": {
    "slideshow": {
     "slide_type": "slide"
    }
   },
   "source": [
    "Finally, for digital signals, the repeater will also perform signal *regeneration*: since the digital encoding only uses a fixed number of levels, which are known, the repeating amplifier can threshold the output signal and eliminate the additive noise (provided that the noise is not too large). Since this happens at each stage, even after several repeaters the trasmission will remain noise-free."
   ]
  },
  {
   "cell_type": "code",
   "execution_count": null,
   "metadata": {},
   "outputs": [],
   "source": [
    "def regen(x, M):\n",
    "    # to regenerate an M-level signal between -1 and 1, first map it to [-M, M]\n",
    "    #  and then discard the fractional part\n",
    "    return np.round(x * M) / M"
   ]
  },
  {
   "cell_type": "markdown",
   "metadata": {
    "slideshow": {
     "slide_type": "slide"
    }
   },
   "source": [
    "### 3.1. One-stage example"
   ]
  },
  {
   "cell_type": "markdown",
   "metadata": {
    "slideshow": {
     "slide_type": "skip"
    }
   },
   "source": [
    "Let's look at a simple example. Here we show the transmitted signal and the signal at the exit of the first repeater for analog transmission; as you can see the noise is amplified along with the signal:"
   ]
  },
  {
   "cell_type": "code",
   "execution_count": null,
   "metadata": {
    "slideshow": {
     "slide_type": "slide"
    }
   },
   "outputs": [],
   "source": [
    "# simple signal\n",
    "xa = np.cos(np.arange(0, 13, 0.01))\n",
    "\n",
    "# 20 dB attenuation and a SNR of 25dB at the end of the section\n",
    "ATT_DB, SRN_DB = 20, 25\n",
    "\n",
    "# analog transmission\n",
    "xa_t = cable_section(xa, ATT_DB, SRN_DB)\n",
    "xa_r = repeater(xa_t, ATT_DB)\n",
    "multiplot(xa, xa_t, xa_r)"
   ]
  },
  {
   "cell_type": "markdown",
   "metadata": {
    "slideshow": {
     "slide_type": "skip"
    }
   },
   "source": [
    "Clearly the noise is preserved by the amplifier. Now let's see what happens with a digital encoding: although the signal is corrupted by noise, the repeater can regenerate it exactly:"
   ]
  },
  {
   "cell_type": "code",
   "execution_count": null,
   "metadata": {
    "slideshow": {
     "slide_type": "slide"
    }
   },
   "outputs": [],
   "source": [
    "M = 5\n",
    "xd = quantize(np.cos(np.arange(0, 13, 0.01)), M)\n",
    "xd_t = cable_section(xd, ATT_DB, SRN_DB)\n",
    "# regenerate after amplification\n",
    "xd_r = regen(repeater(xd_t, ATT_DB), M)\n",
    "multiplot(xd, xd_t, xd_r)"
   ]
  },
  {
   "cell_type": "markdown",
   "metadata": {
    "slideshow": {
     "slide_type": "slide"
    }
   },
   "source": [
    "### 3.2. Multi-stage transmission\n",
    "\n",
    "Let's now cascade several segments. First the analog transmission chain:"
   ]
  },
  {
   "cell_type": "code",
   "execution_count": null,
   "metadata": {},
   "outputs": [],
   "source": [
    "def analog_tx(x, num_repeaters, attenuation, noise_amplitude):\n",
    "    for n in range(0, num_repeaters):\n",
    "        x = repeater(cable_section(x, attenuation, noise_amplitude), attenuation)\n",
    "    return x"
   ]
  },
  {
   "cell_type": "markdown",
   "metadata": {
    "slideshow": {
     "slide_type": "slide"
    }
   },
   "source": [
    "and then the digital transmission chain, where we regenerate the signal after each repeater:"
   ]
  },
  {
   "cell_type": "code",
   "execution_count": null,
   "metadata": {},
   "outputs": [],
   "source": [
    "def digital_tx(x, num_repeaters, attenuation, noise_amplitude, levels=127):\n",
    "    x = quantize(x, levels)\n",
    "    for n in range(0, num_repeaters):\n",
    "        x = regen(repeater(cable_section(x, attenuation, noise_amplitude), attenuation), levels)\n",
    "    return x"
   ]
  },
  {
   "cell_type": "markdown",
   "metadata": {
    "slideshow": {
     "slide_type": "slide"
    }
   },
   "source": [
    "Let's compare transmission schemes with some realistic values: we use about 100 amplifier as we would in a 3000Km cable, each with a 20dB attenuation/gain and each with a realistic SNR of 55dB:"
   ]
  },
  {
   "cell_type": "code",
   "execution_count": null,
   "metadata": {},
   "outputs": [],
   "source": [
    "NUM_REPEATERS = 100\n",
    "ATT_SEC = 20\n",
    "SNR_SEC = 55\n",
    "\n",
    "ya = analog_tx(s, NUM_REPEATERS, ATT_SEC, SNR_SEC)\n",
    "print ('Analog trasmission: SNR = %f dB' % SNR(s, ya))    \n",
    "\n",
    "M = 127\n",
    "yd = digital_tx(s, NUM_REPEATERS, ATT_SEC, SNR_SEC, M)\n",
    "print ('Digital trasmission: SNR = %f dB' % SNR(s, yd))    "
   ]
  },
  {
   "cell_type": "markdown",
   "metadata": {
    "slideshow": {
     "slide_type": "skip"
    }
   },
   "source": [
    "As you can see, while the analog transmission incurs a significant loss of quality, the SNR after digital transmission has not changed at all! And now this difference should be very easy to hear:"
   ]
  },
  {
   "cell_type": "code",
   "execution_count": null,
   "metadata": {
    "slideshow": {
     "slide_type": "slide"
    }
   },
   "outputs": [],
   "source": [
    "IPython.display.Audio(ya, rate=rate)"
   ]
  },
  {
   "cell_type": "code",
   "execution_count": null,
   "metadata": {},
   "outputs": [],
   "source": [
    "IPython.display.Audio(yd, rate=rate)"
   ]
  },
  {
   "cell_type": "markdown",
   "metadata": {
    "slideshow": {
     "slide_type": "slide"
    }
   },
   "source": [
    "### 3.3. Effects of the noise\n",
    "\n",
    "The signal regeneration mechanism will work only if the noise amplitude is smaller than the interval between quantization level. When this is not the case, the regenerator will make a mistake and these mistakes will introduce additional distortion which, ultimately, will negate the benefits of digital transmission.\n",
    "\n",
    "For instance, if the noise is too large, the voice signal becomes completely unintelligible in both cases:"
   ]
  },
  {
   "cell_type": "code",
   "execution_count": null,
   "metadata": {
    "slideshow": {
     "slide_type": "slide"
    }
   },
   "outputs": [],
   "source": [
    "SNR_SEC_BAD = 35\n",
    "\n",
    "ya = analog_tx(s, NUM_REPEATERS, ATT_SEC, SNR_SEC_BAD)\n",
    "print ('Analog trasmission: SNR = %f dB' % SNR(s, ya))    \n",
    "\n",
    "M = 127\n",
    "yd = digital_tx(s, NUM_REPEATERS, ATT_SEC, SNR_SEC_BAD, M)\n",
    "print ('Digital trasmission: SNR = %f dB' % SNR(s, yd))    "
   ]
  },
  {
   "cell_type": "code",
   "execution_count": null,
   "metadata": {
    "slideshow": {
     "slide_type": "slide"
    }
   },
   "outputs": [],
   "source": [
    "IPython.display.Audio(ya, rate=rate)"
   ]
  },
  {
   "cell_type": "code",
   "execution_count": null,
   "metadata": {},
   "outputs": [],
   "source": [
    "IPython.display.Audio(yd, rate=rate)"
   ]
  },
  {
   "cell_type": "markdown",
   "metadata": {
    "slideshow": {
     "slide_type": "slide"
    }
   },
   "source": [
    "Note however that, in the case of digital transmission, we can reduce the number of quantization levels until the regenerator is again able to combat the noise. The resulting transmission SNR will be lower, but it will be lower in a *controlled* fashion, determined by the characteristic of the quantizer. For instance, using the settings above, we can reduce the number of levels to 14 and obtain the same SNR as for simple quantization:"
   ]
  },
  {
   "cell_type": "code",
   "execution_count": null,
   "metadata": {},
   "outputs": [],
   "source": [
    "M = 14\n",
    "SNR(s, quantize(s, M))"
   ]
  },
  {
   "cell_type": "code",
   "execution_count": null,
   "metadata": {},
   "outputs": [],
   "source": [
    "yd = digital_tx(s, NUM_REPEATERS, ATT_SEC, SNR_SEC_BAD, M)\n",
    "print ('Digital trasmission: SNR = %f dB' % SNR(s, yd))    "
   ]
  },
  {
   "cell_type": "markdown",
   "metadata": {
    "slideshow": {
     "slide_type": "slide"
    }
   },
   "source": [
    "The audio quality is not great but decidedly better than the one obtained by analog transmission:"
   ]
  },
  {
   "cell_type": "code",
   "execution_count": null,
   "metadata": {},
   "outputs": [],
   "source": [
    "IPython.display.Audio(yd, rate=rate)"
   ]
  },
  {
   "cell_type": "code",
   "execution_count": null,
   "metadata": {},
   "outputs": [],
   "source": [
    "IPython.display.Audio(ya, rate=rate)"
   ]
  },
  {
   "cell_type": "markdown",
   "metadata": {
    "slideshow": {
     "slide_type": "skip"
    }
   },
   "source": [
    "# ---------------------------------\n",
    "\n",
    "\n",
    "\n",
    "\n",
    "### Did you like this Notebook?\n",
    "Yes, no, maybe? Why don't you give us some feedback using the completely anonymous form below? Thank you!"
   ]
  },
  {
   "cell_type": "code",
   "execution_count": null,
   "metadata": {
    "slideshow": {
     "slide_type": "skip"
    }
   },
   "outputs": [],
   "source": [
    "from IPython.display import IFrame\n",
    "IFrame('https://www.surveymonkey.com/r/NOTOSURVEY?notebook_set=COM303&notebook_id=SignalTransmission', 600, 800)"
   ]
  }
 ],
 "metadata": {
  "celltoolbar": "Slideshow",
  "kernelspec": {
   "display_name": "Python 3",
   "language": "python",
   "name": "python3"
  },
  "language_info": {
   "codemirror_mode": {
    "name": "ipython",
    "version": 3
   },
   "file_extension": ".py",
   "mimetype": "text/x-python",
   "name": "python",
   "nbconvert_exporter": "python",
   "pygments_lexer": "ipython3",
   "version": "3.8.8"
  }
 },
 "nbformat": 4,
 "nbformat_minor": 4
}
