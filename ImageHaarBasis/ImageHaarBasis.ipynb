{
 "cells": [
  {
   "cell_type": "markdown",
   "metadata": {},
   "source": [
    "# A Basis for Grayscale Images\n",
    "<div align=\"right\"><a href=\"https://people.epfl.ch/paolo.prandoni\">Paolo Prandoni</a>, <a href=\"https://www.epfl.ch/labs/lcav/\">LCAV, EPFL</a></div>\n",
    "<br />"
   ]
  },
  {
   "cell_type": "markdown",
   "metadata": {},
   "source": [
    "The concept of \"basis\" for a vector space is one of the most profound and fruitful ideas in linear algebra. Basis vectors are the \"building blocks\" that  all other vectors are built from; by \"disassembling\" a vector into a linear combination of basis elements we are able to \"look inside\" the vector and highlight many of its relevant features. \n",
    "\n",
    "A vector space has an infinite number of bases, but not all bases are created equal; only a carefully crafted basis and, in particular, an orthogonal basis, can show potential in practical applications. In this notebook we will study how a special basis for grayscale images, called the **Haar basis**, can be used to build an efficient compression algorithm that is also robust to errors when used to transmit visual data."
   ]
  },
  {
   "cell_type": "code",
   "execution_count": 1,
   "metadata": {},
   "outputs": [],
   "source": [
    "# usual pyton bookkeeping...\n",
    "%matplotlib inline\n",
    "import matplotlib\n",
    "import matplotlib.pyplot as plt\n",
    "import numpy as np\n",
    "import IPython\n",
    "from IPython.display import Image\n",
    "import math"
   ]
  },
  {
   "cell_type": "code",
   "execution_count": 2,
   "metadata": {},
   "outputs": [
    {
     "data": {
      "text/plain": [
       "<Figure size 1008x288 with 0 Axes>"
      ]
     },
     "metadata": {},
     "output_type": "display_data"
    }
   ],
   "source": [
    "plt.rcParams[\"figure.figsize\"] = (14,4)\n",
    "# ensure all images will be grayscale\n",
    "plt.gray()"
   ]
  },
  {
   "cell_type": "code",
   "execution_count": 3,
   "metadata": {},
   "outputs": [],
   "source": [
    "def multishow(*images):\n",
    "    fig, axes = plt.subplots(nrows=1, ncols=len(images))\n",
    "    for i, s in enumerate(images):\n",
    "        axes[i].matshow(s);\n",
    "    plt.show()"
   ]
  },
  {
   "cell_type": "markdown",
   "metadata": {},
   "source": [
    "## 1. The space of MxN matrices\n",
    "\n",
    "A digital grayscale image of size $M\\times N$ consists of $MN$ real values encoding the intensity level of each pixel: the image data can therefore be represented by a real-valued matrix of size $M\\times N$.\n",
    "\n",
    "The set of all matrices of size $M\\times N$ forms a vector space if we define addition, scalar multiplication and inner product as:\n",
    "\n",
    "\\begin{align}\n",
    "\\mathbf{A} + \\mathbf{B} &=  \n",
    "    \\left[ \n",
    "        \\begin{array}{ccc} \n",
    "            a_{0,0} & \\dots & a_{0,N-1} \\\\ \n",
    "            \\vdots & & \\vdots \\\\ \n",
    "            a_{M-1,0} & \\dots & b_{M-1,N-1} \n",
    "        \\end{array}\n",
    "    \\right]\n",
    "    + \n",
    "    \\left[ \n",
    "        \\begin{array}{ccc} \n",
    "            b_{0,0} & \\dots & b_{0,N-1} \\\\ \n",
    "            \\vdots & & \\vdots \\\\ \n",
    "            b_{M-1,0} & \\dots & b_{M-1,N-1} \n",
    "        \\end{array}\n",
    "    \\right]\n",
    "    =\n",
    "    \\left[ \n",
    "        \\begin{array}{ccc} \n",
    "            a_{0,0}+b_{0,0} & \\dots & a_{0,N-1}+b_{0,N-1} \\\\ \n",
    "            \\vdots & & \\vdots \\\\ \n",
    "            a_{M-1,0}+b_{M-1,0} & \\dots & a_{M-1,N-1}+b_{M-1,N-1} \n",
    "        \\end{array}\n",
    "    \\right]     \n",
    "    \\\\ \\\\ \n",
    "\\beta\\mathbf{A} &=  \n",
    "    \\left[ \n",
    "        \\begin{array}{ccc} \n",
    "            \\beta a_{0,0} & \\dots & \\beta a_{0,N-1} \\\\ \n",
    "            \\vdots & & \\vdots \\\\ \n",
    "            \\beta a_{M-1,0} & \\dots & \\beta a_{M-1,N-1}\n",
    "        \\end{array}\n",
    "    \\right] \n",
    "    \\\\ \\\\\n",
    "    \\langle \\mathbf{A}, \\mathbf{B} \\rangle &= \\sum_{m=0}^{M-1} \\sum_{n=0}^{N-1} a_{m,n} b_{m, n}\n",
    "\\end{align}\n",
    "\n",
    "In particualr, we have omitted the conjugation operator in the inner product since we will only deal with real-valued matrices. The inner product allows us to define orthogonality between images and this is rather useful since we're going to explore a couple of bases for this space.\n",
    "\n",
    "Please note that the space of real-valued $M\\times N$ matrices is isomorphic to $\\mathbb{R}^{MN}$, that is, the space of real-valued Euclidean vectors of size $MN$, since we can always \"unroll\" a matrix into a vector. Assume we proceed column by column; then the matrix becomes the vector\n",
    "\n",
    "$$\n",
    "    \\mathbf{a} = \\mathbf{A}[:] = [\n",
    "        \\begin{array}{ccccccc}\n",
    "            a_{0,0} & \\dots & a_{M-1,0} & a_{0,1} & \\dots & a_{M-1,1} & \\ldots & a_{0, N-1} & \\dots & a_{M-1,N-1}\n",
    "        \\end{array}]^T\n",
    "$$\n",
    "\n",
    "It is easy to see that the vector space operations defined for matrices are consistent with the standard operations in  $\\mathbb{R}^{MN}$. Although the matrix and vector forms represent exactly the same data, the matrix form allows us to display the data in the familiar shape of an image. "
   ]
  },
  {
   "cell_type": "markdown",
   "metadata": {},
   "source": [
    "## 2. Manipulating and displaying images\n",
    "\n",
    "In numpy, the equivalence between matrices and images is fully acknowledged. As an example we can create a checkerboard pattern of any size with the following function:"
   ]
  },
  {
   "cell_type": "code",
   "execution_count": 4,
   "metadata": {},
   "outputs": [],
   "source": [
    "# let's create a checkerboard pattern\n",
    "SIZE = 4\n",
    "img = np.zeros((SIZE, SIZE))\n",
    "for n in range(0, SIZE):\n",
    "    for m in range(0, SIZE):\n",
    "        if (n & 0x1) ^ (m & 0x1):\n",
    "            img[n, m] = 1"
   ]
  },
  {
   "cell_type": "markdown",
   "metadata": {},
   "source": [
    "and display the matrix with `matshow()`; note that the plotting routine automatically rescales the values in the matrix so that the smallest number is mapped to black and the largest to white."
   ]
  },
  {
   "cell_type": "code",
   "execution_count": 5,
   "metadata": {},
   "outputs": [
    {
     "data": {
      "image/png": "[encoded data removed]",
      "text/plain": [
       "<Figure size 288x288 with 1 Axes>"
      ]
     },
     "metadata": {
      "needs_background": "light"
     },
     "output_type": "display_data"
    }
   ],
   "source": [
    "plt.matshow(img); "
   ]
  },
  {
   "cell_type": "markdown",
   "metadata": {},
   "source": [
    "Conveniently, using IPython, we can read images from disk in any given format and convert them to numpy arrays; let's load and display for instance a JPEG image:"
   ]
  },
  {
   "cell_type": "code",
   "execution_count": 6,
   "metadata": {},
   "outputs": [
    {
     "data": {
      "image/png": "[encoded data removed]",
      "text/plain": [
       "<Figure size 288x288 with 1 Axes>"
      ]
     },
     "metadata": {
      "needs_background": "light"
     },
     "output_type": "display_data"
    }
   ],
   "source": [
    "img = np.array(plt.imread('cameraman.jpg'), dtype=int)\n",
    "plt.matshow(img);"
   ]
  },
  {
   "cell_type": "markdown",
   "metadata": {},
   "source": [
    "The image is a $64\\times 64$ low-resolution version of the famous \"cameraman\" test picture. Out of curiosity, we can look at the first column of this image, which is is a $64×1$ vector:"
   ]
  },
  {
   "cell_type": "code",
   "execution_count": 7,
   "metadata": {},
   "outputs": [
    {
     "data": {
      "text/plain": [
       "array([156, 157, 157, 152, 154, 155, 151, 157, 152, 155, 158, 159, 159,\n",
       "       160, 160, 161, 155, 160, 161, 161, 164, 162, 160, 162, 158, 160,\n",
       "       158, 157, 160, 160, 159, 158, 163, 162, 162, 157, 160, 114, 114,\n",
       "       103,  88,  62, 109,  82, 108, 128, 138, 140, 136, 128, 122, 137,\n",
       "       147, 114, 114, 144, 112, 115, 117, 131, 112, 141,  99,  97])"
      ]
     },
     "execution_count": 7,
     "metadata": {},
     "output_type": "execute_result"
    }
   ],
   "source": [
    "img[:,0]"
   ]
  },
  {
   "cell_type": "markdown",
   "metadata": {},
   "source": [
    "The values are integers between zero and 255, meaning that each pixel is encoded over 8 bits (or 256 gray levels), with zero representing black and 255 representing white."
   ]
  },
  {
   "cell_type": "markdown",
   "metadata": {},
   "source": [
    "## 3. The canonical basis for images\n",
    "\n",
    "The canonical basis for any matrix space $\\mathbb{R}^{M\\times N}$ is the set of \"delta\" matrices where only one element is equal to one while all the others are 0. Let's call them $\\mathbf{E}_n$ with $0 \\leq n < MN$. Here is a function to create the canonical basis vector given its index:"
   ]
  },
  {
   "cell_type": "code",
   "execution_count": 8,
   "metadata": {},
   "outputs": [],
   "source": [
    "def canonical(n, M=5, N=10):\n",
    "    e = np.zeros((M, N))\n",
    "    e[(n % M), int(n / M)] = 1\n",
    "    return e"
   ]
  },
  {
   "cell_type": "markdown",
   "metadata": {},
   "source": [
    "Here are some basis vectors: look for the position of white pixel, which differentiates them and note that we enumerate pixels column-wise:"
   ]
  },
  {
   "cell_type": "code",
   "execution_count": 9,
   "metadata": {},
   "outputs": [
    {
     "data": {
      "image/png": "[encoded data removed]",
      "text/plain": [
       "<Figure size 1008x288 with 3 Axes>"
      ]
     },
     "metadata": {
      "needs_background": "light"
     },
     "output_type": "display_data"
    }
   ],
   "source": [
    "multishow(canonical(0), canonical(1), canonical(49));"
   ]
  },
  {
   "cell_type": "markdown",
   "metadata": {},
   "source": [
    "## 3. Transmitting images\n",
    "\n",
    "Suppose we want to transmit the \"cameraman\" image over a communication channel. The intuitive way to do so is to send the  pixel values one by one, which corresponds to sending the coefficients of the decomposition of the image over the canonical basis. So far, nothing complicated: to send the cameraman image, for instance, we will send $64\\times 64 = 4096$ integer values in a row. \n",
    "\n",
    "Now suppose that a communication failure takes place after the first half of the pixels have been sent. The received data will allow us to display an approximation of the original image only. If we replace the missing data with zeros, here is what we would see, which is not very pretty:"
   ]
  },
  {
   "cell_type": "code",
   "execution_count": 10,
   "metadata": {},
   "outputs": [
    {
     "data": {
      "image/png": "[encoded data removed]",
      "text/plain": [
       "<Figure size 288x288 with 1 Axes>"
      ]
     },
     "metadata": {
      "needs_background": "light"
     },
     "output_type": "display_data"
    }
   ],
   "source": [
    "# unrolling of the image for transmission (we go column by column, hence \"F\")\n",
    "tx_img = np.ravel(img, \"F\")\n",
    "\n",
    "# oops, we lose half the data\n",
    "tx_img[int(len(tx_img)/2):] = 0\n",
    "\n",
    "# rebuild matrix\n",
    "rx_img = np.reshape(tx_img, (64, 64), \"F\")\n",
    "plt.matshow(rx_img);"
   ]
  },
  {
   "cell_type": "markdown",
   "metadata": {},
   "source": [
    "Can we come up with a trasmission scheme that is more robust in the face of channel loss? Interestingly, the answer is yes, and it involves a different, more versatile basis for the space of images. "
   ]
  },
  {
   "cell_type": "markdown",
   "metadata": {},
   "source": [
    "### 3.1. The search for a good basis\n",
    "\n",
    "What we are after is a basis for the space of images that fulfills a set of prerequisites:\n",
    "\n",
    " * we want the basis to be orthonormal (or at least orthogonal) so that basis decomposition is obtained simply via a series of inner products\n",
    " * we want the basis to be able to represent the image information robustly so that a few, important coefficients will capture most of the image; this will ensure resilence against data loss\n",
    " * we want the basis to be easy to compute.\n",
    "\n",
    "One such basis is the **Haar basis**. While we cannot go into too many details in this notebook, the curious will find a good starting point [here](https://chengtsolin.wordpress.com/2015/04/15/real-time-2d-discrete-wavelet-transform-using-opengl-compute-shader/). Mathematical formulas aside, the Haar basis works by encoding the information in a *hierarchical* way: the first basis vectors encode the broad information and the higher coefficients encode the detail.\n",
    "\n",
    "First of all, to keep things simple, we will remain in the space of square matrices whose size is a power of two. The code to generate the Haar basis matrices is the following: first we generate a 1D Haar vector and then we obtain the basis matrices by taking the outer product of all possible 1D vectors (don't worry if it's not clear, the results are what's important):"
   ]
  },
  {
   "cell_type": "code",
   "execution_count": 11,
   "metadata": {},
   "outputs": [],
   "source": [
    "def haar1D(n, SIZE):\n",
    "    # check power of two\n",
    "    if math.floor(math.log(SIZE) / math.log(2)) != math.log(SIZE) / math.log(2):\n",
    "        print(\"Haar defined only for lengths that are a power of two\")\n",
    "        return None\n",
    "    if n >= SIZE or n < 0:\n",
    "        print(\"invalid Haar index\")\n",
    "        return None\n",
    "    \n",
    "    # zero basis vector\n",
    "    if n == 0:\n",
    "        return np.ones(SIZE)\n",
    "    \n",
    "    # express n > 1 as 2^p + q with p as large as possible;\n",
    "    # then k = SIZE/2^p is the length of the support\n",
    "    # and s = qk is the shift\n",
    "    p = math.floor(math.log(n) / math.log(2))\n",
    "    pp = int(pow(2, p))\n",
    "    k = SIZE / pp\n",
    "    s = (n - pp) * k\n",
    "    \n",
    "    h = np.zeros(SIZE)\n",
    "    h[int(s):int(s+k/2)] = 1\n",
    "    h[int(s+k/2):int(s+k)] = -1\n",
    "    # these are not normalized\n",
    "    return h\n",
    "\n",
    "\n",
    "def haar2D(n, SIZE=8):\n",
    "    # get horizontal and vertical indices\n",
    "    hr = haar1D(n % SIZE, SIZE)\n",
    "    hv = haar1D(int(n / SIZE), SIZE)\n",
    "    # 2D Haar basis matrix is separable, so we can\n",
    "    #  just take the column-row product\n",
    "    H = np.outer(hr, hv)\n",
    "    H = H / math.sqrt(np.sum(H * H))\n",
    "    return H"
   ]
  },
  {
   "cell_type": "markdown",
   "metadata": {},
   "source": [
    "Let's look at a few basis matrices; note that matrices can have both positive and negative values, so that positive values will be white, negative values will be black and the value of zero will be represented as gray:"
   ]
  },
  {
   "cell_type": "code",
   "execution_count": 12,
   "metadata": {},
   "outputs": [
    {
     "data": {
      "image/png": "[encoded data removed]",
      "text/plain": [
       "<Figure size 1008x288 with 5 Axes>"
      ]
     },
     "metadata": {
      "needs_background": "light"
     },
     "output_type": "display_data"
    }
   ],
   "source": [
    "multishow(haar2D(1), haar2D(2), haar2D(3), haar2D(62), haar2D(63));"
   ]
  },
  {
   "cell_type": "markdown",
   "metadata": {},
   "source": [
    "We can notice two key properties\n",
    "\n",
    "* each basis matrix has positive and negative values in some symmetric pattern: this means that the basis matrix will implicitly compute the difference between image areas\n",
    "* low-index basis matrices take differences between large areas, while high-index ones take differences in smaller **localized** areas of the image\n",
    "\n",
    "We can immediately verify that the Haar matrices are orthogonal:"
   ]
  },
  {
   "cell_type": "code",
   "execution_count": 13,
   "metadata": {},
   "outputs": [
    {
     "name": "stdout",
     "output_type": "stream",
     "text": [
      "[0x0 -> 1.000000] [1x1 -> 1.000000] [2x2 -> 1.000000] [3x3 -> 1.000000] [4x4 -> 1.000000] [5x5 -> 1.000000] [6x6 -> 1.000000] [7x7 -> 1.000000] [8x8 -> 1.000000] [9x9 -> 1.000000] [10x10 -> 1.000000] [11x11 -> 1.000000] [12x12 -> 1.000000] [13x13 -> 1.000000] [14x14 -> 1.000000] [15x15 -> 1.000000] [16x16 -> 1.000000] [16x17 -> -0.000000] [17x16 -> -0.000000] [17x17 -> 1.000000] [18x18 -> 1.000000] [19x19 -> 1.000000] [20x20 -> 1.000000] [21x21 -> 1.000000] [22x22 -> 1.000000] [23x23 -> 1.000000] [24x24 -> 1.000000] [24x25 -> -0.000000] [25x24 -> -0.000000] [25x25 -> 1.000000] [26x26 -> 1.000000] [27x27 -> 1.000000] [28x28 -> 1.000000] [29x29 -> 1.000000] [30x30 -> 1.000000] [31x31 -> 1.000000] [32x32 -> 1.000000] [33x33 -> 1.000000] [34x34 -> 1.000000] [35x35 -> 1.000000] [36x36 -> 1.000000] [37x37 -> 1.000000] [38x38 -> 1.000000] [39x39 -> 1.000000] [40x40 -> 1.000000] [41x41 -> 1.000000] [42x42 -> 1.000000] [43x43 -> 1.000000] [44x44 -> 1.000000] [45x45 -> 1.000000] [46x46 -> 1.000000] [47x47 -> 1.000000] [48x48 -> 1.000000] [49x49 -> 1.000000] [50x50 -> 1.000000] [51x51 -> 1.000000] [52x52 -> 1.000000] [53x53 -> 1.000000] [54x54 -> 1.000000] [55x55 -> 1.000000] [56x56 -> 1.000000] [57x57 -> 1.000000] [58x58 -> 1.000000] [59x59 -> 1.000000] [60x60 -> 1.000000] [61x61 -> 1.000000] [62x62 -> 1.000000] [63x63 -> 1.000000] "
     ]
    }
   ],
   "source": [
    "# let's use an 8x8 space; there will be 64 basis vectors\n",
    "# compute all possible inner product and only print the nonzero results\n",
    "for m in range(0,64):\n",
    "    for n in range(0,64):\n",
    "        r = np.sum(haar2D(m, 8) * haar2D(n, 8))\n",
    "        if r != 0:\n",
    "            print(\"[%dx%d -> %f] \" % (m, n, r), end=\"\")"
   ]
  },
  {
   "cell_type": "markdown",
   "metadata": {},
   "source": [
    "### 3.3. Haar image decomposition\n",
    "\n",
    "Although we know it from the properties of orthogonal bases, let us verify that we can decompose the Cameraman image onto the Haar basis and reconstruct it:"
   ]
  },
  {
   "cell_type": "code",
   "execution_count": 14,
   "metadata": {},
   "outputs": [
    {
     "data": {
      "image/png": "[encoded data removed]",
      "text/plain": [
       "<Figure size 1008x288 with 2 Axes>"
      ]
     },
     "metadata": {
      "needs_background": "light"
     },
     "output_type": "display_data"
    }
   ],
   "source": [
    "# project the image onto the Haar basis, obtaining a vector of 4096 coefficients\n",
    "# this is simply the analysis formula for the vector space with an orthogonal basis\n",
    "tx_img = np.zeros(64*64)\n",
    "for k in range(0, (64*64)):\n",
    "    tx_img[k] = np.sum(img * haar2D(k, 64))\n",
    "\n",
    "# now rebuild the image with the synthesis formula; since the basis is orthonormal\n",
    "#  we just need to scale the basis matrices by the projection coefficients\n",
    "rx_img = np.zeros((64, 64))\n",
    "for k in range(0, (64*64)):\n",
    "    rx_img += tx_img[k] * haar2D(k, 64)\n",
    "\n",
    "multishow(tx_img.reshape(64,64), rx_img);"
   ]
  },
  {
   "cell_type": "markdown",
   "metadata": {},
   "source": [
    "As you can see, the set of Haar coefficients do not make much sense visually, but the decomposition works! "
   ]
  },
  {
   "cell_type": "markdown",
   "metadata": {},
   "source": [
    "### 3.3. Transmission error with the Haar decomposition\n",
    "\n",
    "Now let's see what happens if, like before, we lose the second half of the coefficients:"
   ]
  },
  {
   "cell_type": "code",
   "execution_count": 15,
   "metadata": {},
   "outputs": [
    {
     "data": {
      "image/png": "[encoded data removed]",
      "text/plain": [
       "<Figure size 288x288 with 1 Axes>"
      ]
     },
     "metadata": {
      "needs_background": "light"
     },
     "output_type": "display_data"
    }
   ],
   "source": [
    "# oops, we lose half the data\n",
    "lossy_img = np.copy(tx_img);\n",
    "lossy_img[int(len(tx_img)/2):] = 0\n",
    "\n",
    "# rebuild matrix\n",
    "rx_img = np.zeros((64, 64))\n",
    "for k in range(0, (64*64)):\n",
    "    rx_img += lossy_img[k] * haar2D(k, 64)\n",
    "\n",
    "plt.matshow(rx_img);"
   ]
  },
  {
   "cell_type": "markdown",
   "metadata": {},
   "source": [
    "That's quite remarkable, no? We've lost the same amount of information as before but the image is still acceptable. This is because we lost the coefficients associated to the fine details of the image but we retained the \"broad strokes\" encoded by the first half. \n",
    "\n",
    "Note that if we lose the first half of the coefficients the result is markedly different:"
   ]
  },
  {
   "cell_type": "code",
   "execution_count": 16,
   "metadata": {},
   "outputs": [
    {
     "data": {
      "image/png": "[encoded data removed]",
      "text/plain": [
       "<Figure size 288x288 with 1 Axes>"
      ]
     },
     "metadata": {
      "needs_background": "light"
     },
     "output_type": "display_data"
    }
   ],
   "source": [
    "lossy_img = np.copy(tx_img);\n",
    "lossy_img[0:int(len(tx_img)/2)] = 0\n",
    "\n",
    "rx_img = np.zeros((64, 64))\n",
    "for k in range(0, (64*64)):\n",
    "    rx_img += lossy_img[k] * haar2D(k, 64)\n",
    "\n",
    "plt.matshow(rx_img);"
   ]
  },
  {
   "cell_type": "markdown",
   "metadata": {},
   "source": [
    "In fact, schemes like this one are used in *progressive encoding*: send the most important information first and add details if the channel permits it. You may have experienced this while browsing the interned over a slow connection. \n",
    "\n",
    "All in all, a great application of a change of basis!"
   ]
  },
  {
   "cell_type": "markdown",
   "metadata": {},
   "source": [
    "# ---------------------------------\n",
    "\n",
    "\n",
    "\n",
    "\n",
    "### Did you like this Notebook?\n",
    "Yes, no, maybe? Why don't you give us some feedback using the completely anonymous form below? Thank you!"
   ]
  },
  {
   "cell_type": "code",
   "execution_count": 17,
   "metadata": {},
   "outputs": [
    {
     "data": {
      "text/html": [
       "\n",
       "        <iframe\n",
       "            width=\"600\"\n",
       "            height=\"800\"\n",
       "            src=\"https://www.surveymonkey.com/r/NOTOSURVEY?notebook_set=COM303&notebook_id=ImageHaarBasis\"\n",
       "            frameborder=\"0\"\n",
       "            allowfullscreen\n",
       "        ></iframe>\n",
       "        "
      ],
      "text/plain": [
       "<IPython.lib.display.IFrame at 0x247b591c648>"
      ]
     },
     "execution_count": 17,
     "metadata": {},
     "output_type": "execute_result"
    }
   ],
   "source": [
    "from IPython.display import IFrame\n",
    "IFrame('https://www.surveymonkey.com/r/NOTOSURVEY?notebook_set=COM303&notebook_id=ImageHaarBasis', 600, 800)"
   ]
  },
  {
   "cell_type": "code",
   "execution_count": null,
   "metadata": {},
   "outputs": [],
   "source": []
  }
 ],
 "metadata": {
  "kernelspec": {
   "display_name": "Python 3",
   "language": "python",
   "name": "python3"
  },
  "language_info": {
   "codemirror_mode": {
    "name": "ipython",
    "version": 3
   },
   "file_extension": ".py",
   "mimetype": "text/x-python",
   "name": "python",
   "nbconvert_exporter": "python",
   "pygments_lexer": "ipython3",
   "version": "3.7.7"
  }
 },
 "nbformat": 4,
 "nbformat_minor": 4
}
