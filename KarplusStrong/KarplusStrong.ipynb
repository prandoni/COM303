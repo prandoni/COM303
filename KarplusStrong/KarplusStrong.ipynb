{
 "cells": [
  {
   "cell_type": "markdown",
   "metadata": {},
   "source": [
    "# The Karplus-Strong Algorithm\n",
    "<div align=\"right\"><a href=\"https://people.epfl.ch/paolo.prandoni\">Paolo Prandoni</a>, <a href=\"https://www.epfl.ch/labs/lcav/\">LCAV, EPFL</a></div>"
   ]
  },
  {
   "cell_type": "markdown",
   "metadata": {},
   "source": [
    "The Karplus-Strong algorithm is a simple method to generate synthetic sounds with arbitrary pitch. In this notebook we will explore a few variations of the method to illustrate some basic notions of discrete-time signal processing."
   ]
  },
  {
   "cell_type": "code",
   "execution_count": null,
   "metadata": {},
   "outputs": [],
   "source": [
    "%matplotlib inline\n",
    "import matplotlib\n",
    "import matplotlib.pyplot as plt\n",
    "import numpy as np\n",
    "import IPython"
   ]
  },
  {
   "cell_type": "code",
   "execution_count": null,
   "metadata": {},
   "outputs": [],
   "source": [
    "plt.rcParams[\"figure.figsize\"] = (14,4)"
   ]
  },
  {
   "cell_type": "markdown",
   "metadata": {},
   "source": [
    "## 1. Introduction\n",
    "\n",
    "A musical sound, to be considered a sound and not just noise, must produce in the listener the sensation of \"pitch\"; when we sing, for instance, the melodic line is carried by the vowels in the lyrics, and not by unvoiced sounds such as \"s\" or \"t\". Pitch in a musical note is determined by the periodic repetition of a pattern in the signal; the nuber of times per second that pattern repeats is called the *frequency* of the note, usually measured in Hertz that has dimension $s^{-1}$. \n",
    "\n",
    "\n",
    "In digital signal processing, all signals are just sequences of numbers, so there is no absolute notion of time; but, when we output a signal via a device such as a soundcard, a fundamental parameter is the number of samples per second that our device ingests: this is called the **sampling rate** of the system.\n",
    "\n",
    "Now, if our discrete-time signal contains a repeating pattern of $M$ samples, and if our sampling rate is $F_s$ samples per second, when we play the signal via the soundcard the perceived pithc will be equal to \n",
    "\n",
    "$$\n",
    "    F_s \\mbox{samples}/s \\div M \\mbox{samples} = \\frac{F_s}{M} \\mbox{Hz}\n",
    "$$\n",
    "\n",
    "In the rest of this notebook we will always use the following sampling rate:"
   ]
  },
  {
   "cell_type": "code",
   "execution_count": null,
   "metadata": {},
   "outputs": [],
   "source": [
    "Fs = 16000 # 16 KHz sampling rate"
   ]
  },
  {
   "cell_type": "markdown",
   "metadata": {},
   "source": [
    "## 2. A basic generator\n",
    "\n",
    "The simplest way to generate a pitched sound is to start with a $M$-sample pattern and build a long signal just by collating together as many copies of the pattern as we want: "
   ]
  },
  {
   "cell_type": "code",
   "execution_count": null,
   "metadata": {},
   "outputs": [],
   "source": [
    "def periodizer(x, N):\n",
    "    # given the initial buffer x, produce a length-N output\n",
    "    #  by concatenating identical copies of the buffer\n",
    "    y = x\n",
    "    while len(y) < N:\n",
    "        # keep appending until we reach or exceed the required length\n",
    "        y = np.append(y, x)\n",
    "    # trim the excess\n",
    "    y = y[0:N+1]\n",
    "    return y"
   ]
  },
  {
   "cell_type": "markdown",
   "metadata": {},
   "source": [
    "As for the resulting pitch, if we initialize the periodizer algorithm with a vector of 50 values, the 50-sample pattern will fit $16000 / 50 = 320$ times in a second's worth of audio or, in other words, the resulting fundamantal frequency will be 320Hz, which corresponds roughly to a E4 on a piano (see later for the notation we use for musical pitches)."
   ]
  },
  {
   "cell_type": "markdown",
   "metadata": {},
   "source": [
    "We still haven't talked about what to use as the initial values for the buffer. Perhaps surprisingly, not only can we use pretty much anything we want but using *random values* will produce some trumpet-like sounds. As a proof, consider this initial data set:"
   ]
  },
  {
   "cell_type": "code",
   "execution_count": null,
   "metadata": {},
   "outputs": [],
   "source": [
    "b = np.random.randn(50)\n",
    "plt.stem(b, use_line_collection=True);"
   ]
  },
  {
   "cell_type": "markdown",
   "metadata": {},
   "source": [
    "Let's now generate a 2-second audio clip:"
   ]
  },
  {
   "cell_type": "code",
   "execution_count": null,
   "metadata": {},
   "outputs": [],
   "source": [
    "y = periodizer(b, Fs * 2)\n",
    "\n",
    "# we can look at a few periods:\n",
    "plt.stem(y[0:500], use_line_collection=True);"
   ]
  },
  {
   "cell_type": "code",
   "execution_count": null,
   "metadata": {},
   "outputs": [],
   "source": [
    "IPython.display.Audio(y, rate=Fs)"
   ]
  },
  {
   "cell_type": "markdown",
   "metadata": {},
   "source": [
    "To move down an octave we need to halve the frequency, which correspond to just doubling the length of the initial buffer:"
   ]
  },
  {
   "cell_type": "code",
   "execution_count": null,
   "metadata": {},
   "outputs": [],
   "source": [
    "IPython.display.Audio(periodizer(np.random.rand(100), Fs * 2), rate=Fs)"
   ]
  },
  {
   "cell_type": "markdown",
   "metadata": {},
   "source": [
    "## 3. Needs more DSP!\n",
    "\n",
    "While the basic periodizer works, the Karplus-Strong algorithm is a bit more interesting. From the signal processing point of view, we can describe it via the following block diagram (neglect the factor $\\alpha$ for a moment)\n",
    "\n",
    "<img width=\"650\" src=\"ks.png\">\n",
    "\n",
    "The output can be expressed as\n",
    "$$\n",
    "    y[n] = x[n] + y[n - M]\n",
    "$$\n",
    "assuming that the input is the finite-support signal\n",
    "$$\n",
    "x[n] = \\begin{cases}\n",
    "    0 & \\mbox{for $n < 0$} \\\\\n",
    "    b_n & \\mbox{for $0 \\le n < M$} \\\\\n",
    "    0 & \\mbox{for $n \\ge M$}\n",
    "  \\end{cases}\n",
    "$$\n",
    "\n",
    "Let's implement the K-S algorithm as a signal processing loop"
   ]
  },
  {
   "cell_type": "code",
   "execution_count": null,
   "metadata": {},
   "outputs": [],
   "source": [
    "def KS_1(x, N):\n",
    "    # length of the input\n",
    "    M = len(x)\n",
    "    # prepare the output\n",
    "    y = np.zeros(N)\n",
    "    # this is NOT an efficient implementation, but it shows the general principle\n",
    "    # we assume zero initial conditions (y[n]=0 for n < 0)\n",
    "    for n in range(0, N):\n",
    "        y[n] = (x[n] if n < M else 0) + (y[n-M] if n-M >= 0 else 0)\n",
    "    return y"
   ]
  },
  {
   "cell_type": "code",
   "execution_count": null,
   "metadata": {},
   "outputs": [],
   "source": [
    "# it should still work\n",
    "IPython.display.Audio(KS_1(np.random.rand(50), Fs * 2), rate=Fs)"
   ]
  },
  {
   "cell_type": "markdown",
   "metadata": {},
   "source": [
    "By looking at block diagram we can see a simple modification that adds a lot of realism to the sound: by setting $\\alpha$ to a value close to but less that one, we can introuce a decay in the note that produces sounds resembling those of a harpsichord:\n",
    "\n",
    "$$\n",
    "    y[n] = x[n] + \\alpha y[n - M]\n",
    "$$"
   ]
  },
  {
   "cell_type": "code",
   "execution_count": null,
   "metadata": {},
   "outputs": [],
   "source": [
    "def KS_2(x, N, alpha=0.99):\n",
    "    M = len(x)\n",
    "    y = np.zeros(N)\n",
    "    # \n",
    "    for n in range(0, N):\n",
    "        y[n] = (x[n] if n < M else 0) + alpha * (y[n-M] if n-M >= 0 else 0)\n",
    "    return y"
   ]
  },
  {
   "cell_type": "markdown",
   "metadata": {},
   "source": [
    "If we now plot the resulting K-S output, we can see the decaying envelope:"
   ]
  },
  {
   "cell_type": "code",
   "execution_count": null,
   "metadata": {},
   "outputs": [],
   "source": [
    "y = KS_2(b, Fs * 2)\n",
    "plt.stem(y[0:2000], use_line_collection=True);"
   ]
  },
  {
   "cell_type": "code",
   "execution_count": null,
   "metadata": {},
   "outputs": [],
   "source": [
    "IPython.display.Audio(y, rate=Fs)"
   ]
  },
  {
   "cell_type": "markdown",
   "metadata": {},
   "source": [
    "There is just one last detail (the devil's in the details, here as everywhere else). Consider the output of a dampened K-S loop; every time the initial buffer goes through the loop, it gets multiplied by $\\alpha$ so that we can write\n",
    "$$\n",
    "  y[n] = \\alpha^{\\lfloor n/M \\rfloor}x[n \\mod M]\n",
    "$$\n",
    "(think about it and it will make sense). What that means is that the decay envelope is dependent on both $\\alpha$ *and* $M$ or, in other words, the higher the pitch of the note, the faster its decay. For instance:"
   ]
  },
  {
   "cell_type": "code",
   "execution_count": null,
   "metadata": {},
   "outputs": [],
   "source": [
    "IPython.display.Audio(KS_2(np.random.rand(50), Fs * 2), rate=Fs)"
   ]
  },
  {
   "cell_type": "code",
   "execution_count": null,
   "metadata": {},
   "outputs": [],
   "source": [
    "IPython.display.Audio(KS_2(np.random.rand(10), Fs * 2), rate=Fs)"
   ]
  },
  {
   "cell_type": "markdown",
   "metadata": {},
   "source": [
    "This is no good and therefore we need to modify the algorithm to ensure that, for a given value of $\\alpha$, the decay rate is independent of pitch. This leads us to the final implementation of the K-S algorithm:"
   ]
  },
  {
   "cell_type": "code",
   "execution_count": null,
   "metadata": {},
   "outputs": [],
   "source": [
    "def KS(x, N, alpha=0.99):\n",
    "    # we will adjust alpha so that all notes have a decay\n",
    "    #  comparable to that of a buf len of 50 samples\n",
    "    REF_LEN = 50\n",
    "    M = len(x)\n",
    "    a = alpha ** (float(M) / REF_LEN)\n",
    "    y = np.zeros(N)\n",
    "    # \n",
    "    for n in range(0, N):\n",
    "        y[n] = (x[n] if n < M else 0) + a * (y[n-M] if n-M >= 0 else 0)\n",
    "    return y"
   ]
  },
  {
   "cell_type": "code",
   "execution_count": null,
   "metadata": {},
   "outputs": [],
   "source": [
    "IPython.display.Audio(KS(np.random.rand(50), Fs * 2), rate=Fs)"
   ]
  },
  {
   "cell_type": "code",
   "execution_count": null,
   "metadata": {},
   "outputs": [],
   "source": [
    "IPython.display.Audio(KS(np.random.rand(10), Fs * 2), rate=Fs)"
   ]
  },
  {
   "cell_type": "markdown",
   "metadata": {},
   "source": [
    "## 4. Playing real music!\n",
    "\n",
    "Let's now try to play a chord and, arguably, no guitar chord is as cool as the [opening chord of \"A Hard Day's Night\"](http://en.wikipedia.org/wiki/A_Hard_Day%27s_Night_%28song%29#Opening_chord), by The Beatles.\n",
    "\n",
    "![title](hdn.png)\n",
    "\n",
    "Much has been written about the chord (which, in fact, is made up of 2 guitars, one of which a 12-string, a piano and a bass) but to keep things simple, we will accept the most prevalent thesis which states that the notes are $D_3, F_3, G_3, F_4, A_4, C_5$ and $G_5$. To give it a \"wider\" feeling we will add another $D_2$ below. \n",
    "\n",
    "In Western music, where equal temperament is used, $A_4$ is the reference pitch at a frequency at 440Hz. All other notes can be computed using the formula $f(n) = A_4 \\times 2^{n/12}$ where $n$ is the number of semitones between $A_4$ and the desired note. The exponent $n$ is positive if the note is above $A_4$ and negative otherwise.\n",
    "\n",
    "\n",
    "Each note is generated using a separate Karplus-Strong algorithm. We try to mix the different \"instruments\" by assigning a different gain to each note."
   ]
  },
  {
   "cell_type": "code",
   "execution_count": null,
   "metadata": {},
   "outputs": [],
   "source": [
    "def freq(note):\n",
    "    # general purpose function to convert a note  in standard notation \n",
    "    #  to corresponding frequency\n",
    "    if len(note) < 2 or len(note) > 3 or \\\n",
    "        note[0] < 'A' or note[0] > 'G':\n",
    "        return 0\n",
    "    if len(note) == 3:\n",
    "        if note[1] == 'b':\n",
    "            acc = -1\n",
    "        elif note[1] == '#':\n",
    "            acc = 1\n",
    "        else:\n",
    "            return 0\n",
    "        octave = int(note[2])\n",
    "    else:\n",
    "        acc = 0\n",
    "        octave = int(note[1])\n",
    "    SEMITONES = {'A': 0, 'B': 2, 'C': -9, 'D': -7, 'E': -5, 'F': -4, 'G': -2}\n",
    "    n = 12 * (octave - 4) + SEMITONES[note[0]] + acc\n",
    "    f = 440 * (2 ** (float(n) / 12.0))\n",
    "    #print note, f\n",
    "    return f\n",
    "\n",
    "\n",
    "def ks_chord(chord, N, alpha):\n",
    "    y = np.zeros(N)\n",
    "    # the chord is a dictionary: pitch => gain\n",
    "    for note, gain in chord.items():\n",
    "        # create an initial random-filled KS buffer the note\n",
    "        x = np.random.randn(int(np.round(float(Fs) / freq(note))))\n",
    "        y = y + gain * KS(x, N, alpha)\n",
    "    return y  "
   ]
  },
  {
   "cell_type": "code",
   "execution_count": null,
   "metadata": {},
   "outputs": [],
   "source": [
    "# A Hard Day's Night's chord\n",
    "hdn_chord = {\n",
    "    'D2' : 2.2, \n",
    "    'D3' : 3.0, \n",
    "    'F3' : 1.0, \n",
    "    'G3' : 3.2, \n",
    "    'F4' : 1.0, \n",
    "    'A4' : 1.0, \n",
    "    'C5' : 1.0, \n",
    "    'G5' : 3.5,\n",
    "}\n",
    "    \n",
    "IPython.display.Audio(ks_chord(hdn_chord, Fs * 4, 0.995), rate=Fs)"
   ]
  },
  {
   "cell_type": "markdown",
   "metadata": {},
   "source": [
    "Close enough, no? (Check [here](https://upload.wikimedia.org/wikipedia/en/c/c4/A_Hard_Day's_Night_opening_chord.ogg)). You can now play around with other famous chords, try for instance the \"Mystic Chord\" by Scriabin, whose notes are $C_3, F^{\\sharp}_3, B^{\\flat}_3, E_4, A_4, D_5$."
   ]
  },
  {
   "cell_type": "markdown",
   "metadata": {},
   "source": [
    "## 5. Some food for thought\n",
    "\n",
    "How would you describe what's happening here?"
   ]
  },
  {
   "cell_type": "code",
   "execution_count": null,
   "metadata": {},
   "outputs": [],
   "source": [
    "a = np.random.rand(100)\n",
    "b = np.random.rand(80)\n",
    "c = np.concatenate((a, a, a, a)) + np.concatenate((b, b, b, b, b))\n",
    "\n",
    "IPython.display.Audio(KS_1(c, Fs * 2), rate=Fs)"
   ]
  },
  {
   "cell_type": "markdown",
   "metadata": {},
   "source": [
    "# ---------------------------------\n",
    "\n",
    "\n",
    "\n",
    "\n",
    "### Did you like this Notebook?\n",
    "Yes, no, maybe? Why don't you give us some feedback using the completely anonymous form below? Thank you!"
   ]
  },
  {
   "cell_type": "code",
   "execution_count": null,
   "metadata": {},
   "outputs": [],
   "source": [
    "from IPython.display import IFrame\n",
    "IFrame('https://www.surveymonkey.com/r/NOTOSURVEY?notebook_set=COM303&notebook_id=KS', 600, 800)"
   ]
  }
 ],
 "metadata": {
  "kernelspec": {
   "display_name": "Python 3",
   "language": "python",
   "name": "python3"
  },
  "language_info": {
   "codemirror_mode": {
    "name": "ipython",
    "version": 3
   },
   "file_extension": ".py",
   "mimetype": "text/x-python",
   "name": "python",
   "nbconvert_exporter": "python",
   "pygments_lexer": "ipython3",
   "version": "3.6.10"
  }
 },
 "nbformat": 4,
 "nbformat_minor": 4
}
