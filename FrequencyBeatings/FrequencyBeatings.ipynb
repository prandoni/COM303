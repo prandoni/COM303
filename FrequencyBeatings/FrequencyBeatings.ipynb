{
 "cells": [
  {
   "cell_type": "markdown",
   "metadata": {},
   "source": [
    "# Feel the Beat(s)\n",
    "<div align=\"right\"><a href=\"https://people.epfl.ch/paolo.prandoni\">Paolo Prandoni</a>, <a href=\"https://www.epfl.ch/labs/lcav/\">LCAV, EPFL</a></div>\n",
    "<br />"
   ]
  },
  {
   "cell_type": "markdown",
   "metadata": {},
   "source": [
    "This simple notebook lets you interactively explore the intermodulation effects of two superimposed sinusoids."
   ]
  },
  {
   "cell_type": "code",
   "execution_count": null,
   "metadata": {},
   "outputs": [],
   "source": [
    "# standard bookkeeping\n",
    "%matplotlib inline\n",
    "import matplotlib.pyplot as plt\n",
    "import numpy as np\n",
    "from IPython.display import Audio, display\n",
    "\n",
    "# interactivity library:\n",
    "from ipywidgets import interact, interactive, fixed, interact_manual\n",
    "import ipywidgets as widgets"
   ]
  },
  {
   "cell_type": "code",
   "execution_count": null,
   "metadata": {},
   "outputs": [],
   "source": [
    "plt.rcParams[\"figure.figsize\"] = (14,4)"
   ]
  },
  {
   "cell_type": "markdown",
   "metadata": {},
   "source": [
    "## 1. Introduction\n",
    "\n",
    "_Modulation_ is a technique used in telecommunication system in order to shift the spectral occupancy of a signal and adapt it to the transmission medium. In AM radio, for instance, a voice signal $s(t)$ whose maximum frequency content is below 10KHz, is modulated into the MHz range for wireless transmission:\n",
    "\n",
    "$$\n",
    "    x(t) = s(t)\\cos(2\\pi f_0 t);\n",
    "$$\n",
    "\n",
    "at the receiver, the $x(t)$ is demodulated to recover $s(t)$. The modulated sinusoid is usually called the _carrier_ while $s(t)$ is the modulating signal.\n",
    "\n",
    "\n",
    "Consider now the well-known trigonometric formula:\n",
    "\n",
    "$$\n",
    "    \\cos a + \\cos b = 2\\cos\\left(\\frac{a + b}{2}\\right)\\cos\\left(\\frac{a-b}{2}\\right);\n",
    "$$\n",
    "\n",
    "using two sinusoidal signals, we have\n",
    "\n",
    "$$\n",
    "    \\cos(\\omega_a n) + \\cos(\\omega_b n) = 2\\cos\\left(\\omega_0 n\\right)\\cos\\left(\\omega_c n\\right)\n",
    "$$\n",
    "\n",
    "with $\\omega_0 = (\\omega_a - \\omega_b)/2$ and $\\omega_c = (\\omega_a + \\omega_b)/2$. While the left-hand side describes the sum of two cosines, which is what we obtain if we play two sinusoids together, the right-hand side describes the same signal as a product, that is, as a modulation. \n",
    "\n",
    "If the frequencies are very close to each other, $\\omega_a \\approx \\omega_b$, then their average will be approximately equal to either of them, that is, $\\omega_c m\\approx \\omega_a \\approx \\omega_b$ while their difference will be very small, that is, the modulating signal at frequency $\\omega_0$ will have a very low frequency.\n",
    "\n",
    "When these sinusoids are mapped to real-world frequencies in the audible range, the perceived effect will be that of a single sinusoid whose volume fluctuates in time at a rate inversely proportional to $\\omega_0$. Acoustically, this volume fluctuation is called a frequency _beat_.\n",
    "\n",
    "### 1.1 Tuning an instrument\n",
    "\n",
    "Interestingly, frequency beats are useful to tune a stringed instrument when a reference tone (such as that of a tuning fork) is available. The idea is to play the reference note and the string at the same time. If the string is playing a frequency in the vicinity of the reference, the composite sound will be perceived as a modulated sinusoid. The number of volume fluctuations per second provide an estimate of the difference in frequency between the two notes."
   ]
  },
  {
   "cell_type": "markdown",
   "metadata": {},
   "source": [
    "## 2. Let's play\n",
    "\n",
    "This simple fuction generates, plots and plays two sinusoids at the given frequencies:"
   ]
  },
  {
   "cell_type": "code",
   "execution_count": null,
   "metadata": {},
   "outputs": [],
   "source": [
    "def beat_freq(f1=220.0, f2=224.0):\n",
    "    # the clock of the system\n",
    "    LEN = 4 # seconds\n",
    "    Fs = 8000.0\n",
    "    n = np.arange(0, int(LEN * Fs))\n",
    "    s = np.cos(2*np.pi * f1/Fs * n) + np.cos(2*np.pi * f2/Fs * n)\n",
    "    # start from the first null of the beating frequency\n",
    "    if f2 != f1:\n",
    "        K = int(Fs / (2 * abs(f2-f1)))\n",
    "        s = s[K:]\n",
    "    # play the sound\n",
    "    display(Audio(data=s, rate=Fs))\n",
    "    # display one second of audio\n",
    "    plt.plot(s[0:int(Fs)])"
   ]
  },
  {
   "cell_type": "markdown",
   "metadata": {},
   "source": [
    "The interactivity module in the notebooks allows us to easily change one of the frequencies and observe the results"
   ]
  },
  {
   "cell_type": "code",
   "execution_count": null,
   "metadata": {},
   "outputs": [],
   "source": [
    "interact(beat_freq, f1=(200.0,300.0), f2=(200.0,300.0));"
   ]
  },
  {
   "cell_type": "markdown",
   "metadata": {},
   "source": [
    "# ---------------------------------\n",
    "\n",
    "\n",
    "\n",
    "\n",
    "### Did you like this Notebook?\n",
    "Yes, no, maybe? Why don't you give us some feedback using the completely anonymous form below? Thank you!"
   ]
  },
  {
   "cell_type": "code",
   "execution_count": null,
   "metadata": {},
   "outputs": [],
   "source": [
    "from IPython.display import IFrame\n",
    "IFrame('https://www.surveymonkey.com/r/NOTOSURVEY?notebook_set=COM303&notebook_id=FrequencyBeatings', 600, 800)"
   ]
  }
 ],
 "metadata": {
  "kernelspec": {
   "display_name": "Python 3",
   "language": "python",
   "name": "python3"
  },
  "language_info": {
   "codemirror_mode": {
    "name": "ipython",
    "version": 3
   },
   "file_extension": ".py",
   "mimetype": "text/x-python",
   "name": "python",
   "nbconvert_exporter": "python",
   "pygments_lexer": "ipython3",
   "version": "3.8.8"
  }
 },
 "nbformat": 4,
 "nbformat_minor": 4
}
