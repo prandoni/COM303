{
 "cells": [
  {
   "cell_type": "markdown",
   "metadata": {},
   "source": [
    "# Plotting the DFT\n",
    "<div align=\"right\"><a href=\"https://people.epfl.ch/paolo.prandoni\">Paolo Prandoni</a>, <a href=\"https://www.epfl.ch/labs/lcav/\">LCAV, EPFL</a></div>\n",
    "<br />"
   ]
  },
  {
   "cell_type": "markdown",
   "metadata": {},
   "source": [
    "In this notebook we will look at the practical issues associated to plotting the DFT and in particular the DFT of real-world signals. We will examine how to map the DFT coefficients to real-world frequencies and we will investigate the frequency resolution of the DFT and the effects of zero padding."
   ]
  },
  {
   "cell_type": "code",
   "execution_count": null,
   "metadata": {},
   "outputs": [],
   "source": [
    "# first our usual bookkeeping\n",
    "%matplotlib inline\n",
    "import matplotlib\n",
    "import matplotlib.pyplot as plt\n",
    "import numpy as np"
   ]
  },
  {
   "cell_type": "code",
   "execution_count": null,
   "metadata": {},
   "outputs": [],
   "source": [
    "plt.rcParams[\"figure.figsize\"] = (14,4)"
   ]
  },
  {
   "cell_type": "markdown",
   "metadata": {},
   "source": [
    "## 1. Introduction\n",
    "\n",
    "As a quick reminder, the definition of the DFT for a length-$N$ signal is:\n",
    "\n",
    "$$\n",
    "    X[k] = \\sum_{n=0}^{N-1} x[n]\\, e^{j\\frac{2\\pi}{N}nk}, \\quad k=0, \\ldots, N-1 \n",
    "$$\n",
    "\n",
    "As we have seen, the above formula is just the expression of a change of basis in $\\mathbb{C}^N$: we're expressing the information contained in the signal $x[n]$ in terms of the sinusoidal basis vectors $w_k[n] = e^{-j\\frac{2\\pi}{N}nk}$ rather than in terms of the canonical basis $e_k[n] = \\delta[n-k]$. The sinusoidal components all span an integer number of periods over the length $N$ of the data signal."
   ]
  },
  {
   "cell_type": "markdown",
   "metadata": {},
   "source": [
    "In Python, we will use the `fft` module in Numpy to compute the DFT. Typically, we will take a vector of data points, compute the DFT and plot the magnitude of the result. For instance, consider the DFT of a symmetric linear ramp:"
   ]
  },
  {
   "cell_type": "code",
   "execution_count": null,
   "metadata": {},
   "outputs": [],
   "source": [
    "def ramp(N):\n",
    "    # N-point linear ramp between -1 and +1 inclusive\n",
    "    return np.array([2 * n / (N - 1) - 1 for n in range(0, N)])"
   ]
  },
  {
   "cell_type": "code",
   "execution_count": null,
   "metadata": {},
   "outputs": [],
   "source": [
    "x = ramp(51)\n",
    "plt.stem(x, use_line_collection=True);"
   ]
  },
  {
   "cell_type": "code",
   "execution_count": null,
   "metadata": {},
   "outputs": [],
   "source": [
    "X = np.fft.fft(x)\n",
    "plt.stem(abs(X), use_line_collection=True);"
   ]
  },
  {
   "cell_type": "markdown",
   "metadata": {
    "tags": []
   },
   "source": [
    "## 2. Positive and negative frequencies\n",
    "\n",
    "The $k$-th DFT coefficient indicates the contribution (in amplitude and phase) to the input signal of a sinusoidal component of frequency\n",
    "\n",
    "$$\n",
    "    \\omega_k = \\frac{2\\pi}{N}k.\n",
    "$$\n",
    "\n",
    "Because of the rotational symmetry of complex exponentials, a positive frequency $\\omega$ between $\\pi$ and $2\\pi$ is equivalent to a negative frequency of $\\omega - 2\\pi$; this means that the \"top half\" of the DFT coefficients correspond to negative frequencies of the form\n",
    "\n",
    "$$\n",
    "    \\omega_k = -\\frac{2\\pi}{N}(N - k) \\quad k \\ge \\lceil N / 2 \\rceil.\n",
    "$$\n",
    "\n",
    "When looking at the physical properties of a DFT decomposition it therefore may make more sense to plot the coefficients centered around zero with positive frequencies on the right and negative frequencies on the left, much in the same way as the usual custom with DTFT plots.\n",
    "\n",
    "The reason why this is not usually done are many, including\n",
    " \n",
    " * since we are manipulating finite-length signals, the convention dictates that we start at index zero \n",
    " * when dealing with real-valued data, the DFT is symmetric in magnitude, so the first half of the coefficients is enough\n",
    " * if we're looking for maxima in the magnitude, it's just easier to start at zero.\n",
    " \n",
    "Nevertheless, when displaying spectral information, we will want to shift the spectrum and center it around zero. The following section implements a tool to do so."
   ]
  },
  {
   "cell_type": "markdown",
   "metadata": {
    "tags": []
   },
   "source": [
    "### 2.1. Parity\n",
    "\n",
    "There is a subtle point that we must take into account when shifting a DFT vector, namely, **we need to differentiate between odd- and even-length signals**. \n",
    "\n",
    "If we rearrange the DFT coefficients so that $X[0]$ becomes the center point, \n",
    "\n",
    "For odd-length vectors, we can write $N = 1 + 2L$ with $L = (N-1)/2 \\in \\mathbb{N}$, and the coefficients can be rearranged like so:\n",
    "\n",
    " * $X[0]$ becomes the center point\n",
    " * the coefficients $X[1]$ to $X[L]$ correspont to the positive frequencies, from $\\omega_1 = 2\\pi/N$ to $\\omega_L = \\pi - 2\\pi/N$\n",
    " * the coefficients $X[L+1]$ to $X[N-1]$ correspont to the negative frequencies, from $\\omega_{-1} = -2\\pi/N$ to $\\omega_{-L} = -\\pi + 2\\pi/N$\n",
    " \n",
    "For even-length signals, on the other hand, $N/2$ is an integer and the maximum positive frequency is \n",
    "\n",
    "$$\n",
    "    \\omega_{N/2} = \\frac{2\\pi}{N}\\frac{N}{2} = \\pi.\n",
    "$$\n",
    "\n",
    "However, because of the periodicity of complex exponentials, a positive frequency of $\\pi$ corresponds to a negative frequency of $-\\pi$ and therefore, for even-length signals, $X[N/2]$ can either be considered the maximum-positive-frequency coefficients or the minimum-negative-frequency coefficients: the two coincide. When rearranging even-length DFT vectors, we therefore replicate $X[N/2]$ at the beginning of the set of negative freqency coefficeints in order to obtain a symmetric data vector. "
   ]
  },
  {
   "cell_type": "code",
   "execution_count": null,
   "metadata": {},
   "outputs": [],
   "source": [
    "def dft_shift(X):\n",
    "    N = len(X)\n",
    "    L = len(X) // 2\n",
    "    if (N % 2 == 0):\n",
    "        # even-length: return N+1 values\n",
    "        return np.concatenate((X[L:], X[:L+1]))\n",
    "    else:\n",
    "        # odd-length: return N values\n",
    "        return np.concatenate((X[L+1:], X[:L+1]))"
   ]
  },
  {
   "cell_type": "code",
   "execution_count": null,
   "metadata": {},
   "outputs": [],
   "source": [
    "plt.stem(abs(dft_shift(np.fft.fft(ramp(13)))), use_line_collection=True);"
   ]
  },
  {
   "cell_type": "code",
   "execution_count": null,
   "metadata": {},
   "outputs": [],
   "source": [
    "plt.stem(abs(dft_shift(np.fft.fft(ramp(14)))), use_line_collection=True);"
   ]
  },
  {
   "cell_type": "code",
   "execution_count": null,
   "metadata": {},
   "outputs": [],
   "source": [
    "plt.stem(abs(dft_shift(X)), use_line_collection=True);"
   ]
  },
  {
   "cell_type": "markdown",
   "metadata": {},
   "source": [
    "While the function does shift the vector, the indices are still from zero to $N-1$. Let's modify it so that we returs also the proper values for the indices:"
   ]
  },
  {
   "cell_type": "code",
   "execution_count": null,
   "metadata": {},
   "outputs": [],
   "source": [
    "def dft_shift(X):\n",
    "    # use more compact notation: np.r_ and mod for parity\n",
    "    L = len(X) // 2\n",
    "    return np.arange(-L, L + 1), np.r_[ X[L+(len(X) % 2):], X[:L+1] ]"
   ]
  },
  {
   "cell_type": "code",
   "execution_count": null,
   "metadata": {},
   "outputs": [],
   "source": [
    "n, y = dft_shift(np.fft.fft(ramp(13)))\n",
    "plt.stem(n, abs(y), use_line_collection=True);"
   ]
  },
  {
   "cell_type": "code",
   "execution_count": null,
   "metadata": {},
   "outputs": [],
   "source": [
    "n, y = dft_shift(np.fft.fft(ramp(14)))\n",
    "plt.stem(n, abs(y), use_line_collection=True);"
   ]
  },
  {
   "cell_type": "markdown",
   "metadata": {},
   "source": [
    "## 3. Mapping the DFT index to real-world frequencies\n",
    "\n",
    "The next step is to use the DFT to analyze real-world signals. As we have seen in previous examples, what we need to do is set the time interval between samples or, in other words, set the \"clock\" of the system. For audio, this is equivalent to the sampling rate of the file.\n",
    "\n",
    "Here for instance is the sound of a piano note:"
   ]
  },
  {
   "cell_type": "code",
   "execution_count": null,
   "metadata": {},
   "outputs": [],
   "source": [
    "import IPython\n",
    "from scipy.io import wavfile\n",
    "Fs, x = wavfile.read(\"piano.wav\")\n",
    "IPython.display.Audio(x, rate=Fs)"
   ]
  },
  {
   "cell_type": "markdown",
   "metadata": {},
   "source": [
    "In order to look at the spectrum of the sound file with a DFT we need to map the digital frequency \"bins\" of the DFT to real-world frequencies. \n",
    "\n",
    "The $k$-th basis function over $\\mathbb{C}^N$ completes $k$ cycles over $N$ samples. If the time between samples is $1/F_s$, then the real-world frequency of the $k$-th basis function is cycles over time, namely $k(F_s/N)$.\n",
    "\n",
    "Let's remap the DFT coefficients using the sampling rate:"
   ]
  },
  {
   "cell_type": "code",
   "execution_count": null,
   "metadata": {},
   "outputs": [],
   "source": [
    "def dft_map(X, Fs, shift=True):\n",
    "    resolution = float(Fs) / len(X)\n",
    "    if shift:\n",
    "        n, Y = dft_shift(X)\n",
    "    else:\n",
    "        Y = X\n",
    "        n = np.arange(0, len(Y))\n",
    "    f = n * resolution\n",
    "    return f, Y"
   ]
  },
  {
   "cell_type": "code",
   "execution_count": null,
   "metadata": {},
   "outputs": [],
   "source": [
    "# let's cut the signal otherwise it's too big\n",
    "x = x[:32768]\n",
    "X = np.fft.fft(x);\n",
    "f, y = dft_map(X, Fs)\n",
    "plt.plot(f, abs(y));"
   ]
  },
  {
   "cell_type": "markdown",
   "metadata": {},
   "source": [
    "The plot shows what a spectrum analyzer would display. The clear spectral lines indicate that some pattern is repeating periodically in the time-domain, which is the typical characteristic of musical sounds, and the repetition rate for the pattern determines the perceived *pitch* of the musical note. A pattern that repeats $f_0$ times per second will originate a spectrum with clear frequency lines at most integer multiples of $f_0$. \n",
    "\n",
    "To determine $f_0$, also called the fundamental frequency of the musical note,  we need to zoom in in the plot and find the first peak. This is one of the instances in which shifting the DFT does not help, since we'll be looking in the low-frequency range. So let's re-plot withouth the shift, but still mapping the frequencies:"
   ]
  },
  {
   "cell_type": "code",
   "execution_count": null,
   "metadata": {},
   "outputs": [],
   "source": [
    "X = np.fft.fft(x);\n",
    "f, y = dft_map(X, Fs, shift=False)\n",
    "plt.plot(f[:2000], abs(y[:2000]));"
   ]
  },
  {
   "cell_type": "markdown",
   "metadata": {},
   "source": [
    "We can see that the first peak is in the vicinity of 200Hz; to find the exact frequency (to within the resolution afforded by this DFT) let's find the location"
   ]
  },
  {
   "cell_type": "code",
   "execution_count": null,
   "metadata": {},
   "outputs": [],
   "source": [
    "dft_resolution = float(Fs)/ len(x)\n",
    "print(\"DFT resolution is\", dft_resolution, \"Hz\")\n",
    "\n",
    "# let's search up to 300Hz\n",
    "max_range = int(300 / dft_resolution)\n",
    "ix = np.argmax(abs(y[:max_range]))\n",
    "pitch = f[ix]\n",
    "print(\"the note has a pitch of\", pitch, \"Hz\")"
   ]
  },
  {
   "cell_type": "markdown",
   "metadata": {},
   "source": [
    "so the note is a A, half the frequency of concert pitch."
   ]
  },
  {
   "cell_type": "markdown",
   "metadata": {},
   "source": [
    "## 4. Zero-padding\n",
    "\n",
    "Since the resolution of a DFT depends on the length of the data vector, one may erroneously assume that, by *artificially* extending a given data set, the resulting resolution would improve. Note that here we're not talking about *collecting* more data; rather, we have a data set and we append zeros (or any other constant value) to the end of it. This extension is called zero-padding.\n",
    "\n",
    "The derivation of why zero-padding does not increase the resolution is detailed in the book. Here we will just present a simple example. \n",
    "\n",
    "Assume we're in $\\mathbb{C}^N$ with $N=256$. The resolution of the DFT in this space is \n",
    "\n",
    "$$\n",
    "    \\Delta = 2\\pi/256 \\approx 0.0245\n",
    "$$\n",
    "\n",
    "Let's build a signal with two sinusoids with frequencies more than $\\Delta$ apart and let's look at the spectrum:"
   ]
  },
  {
   "cell_type": "code",
   "execution_count": null,
   "metadata": {},
   "outputs": [],
   "source": [
    "N = 256\n",
    "Delta = 2*np.pi / N\n",
    "n = np.arange(0, N)\n",
    "\n",
    "# main frequency (not a multiple of the fundamental freq for the space)\n",
    "omega = 2*np.pi / 10 \n",
    "\n",
    "x = np.cos(omega * n) + np.cos((omega + 3*Delta) * n)\n",
    "plt.plot(abs(np.fft.fft(x))[:100]);"
   ]
  },
  {
   "cell_type": "markdown",
   "metadata": {},
   "source": [
    "we can tell the two frequencies apart and, if you zoom in on the plot, you will see that they are indeed three indices apart. Now let's build a signal with two frequencies that are less than $\\Delta$ apart:"
   ]
  },
  {
   "cell_type": "code",
   "execution_count": null,
   "metadata": {},
   "outputs": [],
   "source": [
    "x = np.cos(omega * n) + np.cos((omega + 0.5*Delta) * n)\n",
    "plt.plot(abs(np.fft.fft(x))[:100]);"
   ]
  },
  {
   "cell_type": "markdown",
   "metadata": {},
   "source": [
    "The two frequencies cannot be resolved by the DFT. If you try to increase the data vector by zero padding, the plot will still display just one peak:"
   ]
  },
  {
   "cell_type": "code",
   "execution_count": null,
   "metadata": {},
   "outputs": [],
   "source": [
    "xzp = np.concatenate((x, np.zeros(2000)))\n",
    "plt.plot(abs(np.fft.fft(xzp))[:500]);"
   ]
  },
  {
   "cell_type": "markdown",
   "metadata": {},
   "source": [
    "# ---------------------------------\n",
    "\n",
    "\n",
    "\n",
    "\n",
    "### Did you like this Notebook?\n",
    "Yes, no, maybe? Why don't you give us some feedback using the completely anonymous form below? Thank you!"
   ]
  },
  {
   "cell_type": "code",
   "execution_count": null,
   "metadata": {},
   "outputs": [],
   "source": [
    "from IPython.display import IFrame\n",
    "IFrame('https://www.surveymonkey.com/r/NOTOSURVEY?notebook_set=COM303&notebook_id=DFTPlots', 600, 800)"
   ]
  }
 ],
 "metadata": {
  "kernelspec": {
   "display_name": "Python 3",
   "language": "python",
   "name": "python3"
  },
  "language_info": {
   "codemirror_mode": {
    "name": "ipython",
    "version": 3
   },
   "file_extension": ".py",
   "mimetype": "text/x-python",
   "name": "python",
   "nbconvert_exporter": "python",
   "pygments_lexer": "ipython3",
   "version": "3.6.10"
  }
 },
 "nbformat": 4,
 "nbformat_minor": 4
}
